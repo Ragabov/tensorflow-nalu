{
 "cells": [
  {
   "cell_type": "code",
   "execution_count": 2,
   "metadata": {
    "collapsed": true
   },
   "outputs": [],
   "source": [
    "import tensorflow as tf\n",
    "import numpy as np\n",
    "\n",
    "from experiments.utils import generate_synthetic_arithmetic_dataset\n",
    "from layers.nalu_layer import NaluLayer\n",
    "\n",
    "if __name__ == \"__main__\":\n",
    "    \n",
    "    EPOCHS = 10000\n",
    "    PATIENCE = 15\n",
    "    LEARNING_RATE = .005\n",
    "    BATCH_SIZE = 16384\n",
    "    FEATURES_NUM = 100\n",
    "    \n",
    "    X_train, y_train, boundaries = generate_synthetic_arithmetic_dataset(\"add\", -1000, 1000, FEATURES_NUM, 100000)\n",
    "    X_test, y_test, _ = generate_synthetic_arithmetic_dataset(\"add\", -10000, 10000, FEATURES_NUM, 100000, boundaries)\n",
    "    input = tf.placeholder(tf.float32, shape=[None, FEATURES_NUM])\n",
    "    y_true = tf.placeholder(tf.float32, shape=[None, ])\n",
    "    nalu_layer = NaluLayer(FEATURES_NUM, 1, 2, 2, core_cell_type=\"nalu\")\n",
    "    y_pred = tf.squeeze(nalu_layer(input))\n",
    "    \n",
    "\n",
    "    loss = tf.losses.mean_squared_error(y_true, y_pred)  # NALU uses mse\n",
    "    optimizer = tf.train.RMSPropOptimizer(LEARNING_RATE)\n",
    "    train_op = optimizer.minimize(loss)\n",
    "\n",
    "    sess = tf.Session()\n",
    "    init = tf.global_variables_initializer()\n",
    "    sess.run(init)\n",
    "    \n",
    "    p = PATIENCE\n",
    "    old_loss = 0\n",
    "    for epoch in range(EPOCHS):\n",
    "        i = 0\n",
    "        while i < len(X_train):\n",
    "            X_batch, y_batch = X_train[i:i + BATCH_SIZE], y_train[i:i + BATCH_SIZE]\n",
    "\n",
    "            _, output_batch, l = sess.run([train_op, y_pred, loss],\n",
    "                                     feed_dict={input: X_batch, y_true: y_batch})\n",
    "            i += BATCH_SIZE\n",
    "\n",
    "        acc = np.sum(np.isclose(output_batch, y_batch, atol=.1, rtol=0)) / len(y_batch)\n",
    "        print('epoch {2}, loss: {0}, accuracy: {1}'.format(l, acc, epoch))\n",
    "        \n",
    "        if old_loss - l < .00001:\n",
    "            p -= 1\n",
    "            if p < 0:\n",
    "                print(\"Early Stopping after {} epochs of no improvements\".format(PATIENCE))\n",
    "                break\n",
    "        else:\n",
    "            p = PATIENCE\n",
    "        old_loss = l \n",
    "            \n",
    "    output_test, l = sess.run([y_pred, loss],\n",
    "                                     feed_dict={input: X_test, y_true: y_test})\n",
    "    acc = np.sum(np.isclose(output_test, y_test, atol=.1, rtol=0)) / len(y_test)\n",
    "    print('test loss: {0}, accuracy: {1}'.format(l, acc))"
   ]
  },
  {
   "cell_type": "code",
   "execution_count": null,
   "metadata": {},
   "outputs": [],
   "source": []
  }
 ],
 "metadata": {
  "kernelspec": {
   "display_name": "Python 2",
   "language": "python",
   "name": "python2"
  },
  "language_info": {
   "codemirror_mode": {
    "name": "ipython",
    "version": 2
   },
   "file_extension": ".py",
   "mimetype": "text/x-python",
   "name": "python",
   "nbconvert_exporter": "python",
   "pygments_lexer": "ipython2",
   "version": "2.7.6"
  }
 },
 "nbformat": 4,
 "nbformat_minor": 0
}
