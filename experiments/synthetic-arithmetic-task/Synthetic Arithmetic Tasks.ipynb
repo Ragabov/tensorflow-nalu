{
 "cells": [
  {
   "cell_type": "code",
   "execution_count": 1,
   "metadata": {
    "collapsed": true
   },
   "outputs": [
    {
     "name": "stderr",
     "output_type": "stream",
     "text": [
      "/media/ragabov/personal/Work/anaconda3/lib/python3.6/importlib/_bootstrap.py:219: RuntimeWarning: compiletime version 3.5 of module 'tensorflow.python.framework.fast_tensor_util' does not match runtime version 3.6\n  return f(*args, **kwds)\n"
     ]
    },
    {
     "name": "stderr",
     "output_type": "stream",
     "text": [
      "/media/ragabov/personal/Work/anaconda3/lib/python3.6/site-packages/h5py/__init__.py:34: FutureWarning: Conversion of the second argument of issubdtype from `float` to `np.floating` is deprecated. In future, it will be treated as `np.float64 == np.dtype(float).type`.\n  from ._conv import register_converters as _register_converters\n"
     ]
    },
    {
     "name": "stdout",
     "output_type": "stream",
     "text": [
      "epoch 0, loss: 15944782.0, accuracy: 0.0\nepoch 1, loss: 15236113.0, accuracy: 0.0\n"
     ]
    },
    {
     "name": "stdout",
     "output_type": "stream",
     "text": [
      "epoch 2, loss: 14421148.0, accuracy: 0.0\nepoch 3, loss: 13501508.0, accuracy: 0.0\n"
     ]
    },
    {
     "name": "stdout",
     "output_type": "stream",
     "text": [
      "epoch 4, loss: 12497454.0, accuracy: 0.0\nepoch 5, loss: 11442963.0, accuracy: 0.0\n"
     ]
    },
    {
     "name": "stdout",
     "output_type": "stream",
     "text": [
      "epoch 6, loss: 10378597.0, accuracy: 0.0\nepoch 7, loss: 9343193.0, accuracy: 0.0\n"
     ]
    },
    {
     "name": "stdout",
     "output_type": "stream",
     "text": [
      "epoch 8, loss: 8367819.0, accuracy: 0.0\nepoch 9, loss: 7472859.0, accuracy: 0.0\n"
     ]
    },
    {
     "name": "stdout",
     "output_type": "stream",
     "text": [
      "epoch 10, loss: 6668171.0, accuracy: 0.0\nepoch 11, loss: 5955153.5, accuracy: 0.0\n"
     ]
    },
    {
     "name": "stdout",
     "output_type": "stream",
     "text": [
      "epoch 12, loss: 5329454.0, accuracy: 0.0\nepoch 13, loss: 4783473.0, accuracy: 0.0\n"
     ]
    },
    {
     "name": "stdout",
     "output_type": "stream",
     "text": [
      "epoch 14, loss: 4308255.0, accuracy: 0.0\nepoch 15, loss: 3894712.25, accuracy: 0.0\n"
     ]
    },
    {
     "name": "stdout",
     "output_type": "stream",
     "text": [
      "epoch 16, loss: 3534323.5, accuracy: 0.0\nepoch 17, loss: 3219456.25, accuracy: 0.0\n"
     ]
    },
    {
     "name": "stdout",
     "output_type": "stream",
     "text": [
      "epoch 18, loss: 2943461.75, accuracy: 0.0\nepoch 19, loss: 2700648.5, accuracy: 0.0\n"
     ]
    },
    {
     "name": "stdout",
     "output_type": "stream",
     "text": [
      "epoch 20, loss: 2486195.5, accuracy: 0.0\nepoch 21, loss: 2296037.75, accuracy: 0.0\n"
     ]
    },
    {
     "name": "stdout",
     "output_type": "stream",
     "text": [
      "epoch 22, loss: 2126755.25, accuracy: 0.0\nepoch 23, loss: 1975477.25, accuracy: 0.0\n"
     ]
    },
    {
     "name": "stdout",
     "output_type": "stream",
     "text": [
      "epoch 24, loss: 1839778.375, accuracy: 0.0\nepoch 25, loss: 1717618.125, accuracy: 0.0\n"
     ]
    },
    {
     "name": "stdout",
     "output_type": "stream",
     "text": [
      "epoch 26, loss: 1607267.125, accuracy: 0.0\nepoch 27, loss: 1507255.5, accuracy: 0.0\n"
     ]
    },
    {
     "name": "stdout",
     "output_type": "stream",
     "text": [
      "epoch 28, loss: 1416330.75, accuracy: 0.0\nepoch 29, loss: 1333423.125, accuracy: 0.0005896226415094339\n"
     ]
    },
    {
     "name": "stdout",
     "output_type": "stream",
     "text": [
      "epoch 30, loss: 1257613.375, accuracy: 0.0005896226415094339\nepoch 31, loss: 1188104.875, accuracy: 0.0\n"
     ]
    },
    {
     "name": "stdout",
     "output_type": "stream",
     "text": [
      "epoch 32, loss: 1124216.5, accuracy: 0.0\nepoch 33, loss: 1065350.75, accuracy: 0.0\n"
     ]
    },
    {
     "name": "stdout",
     "output_type": "stream",
     "text": [
      "epoch 34, loss: 1010988.875, accuracy: 0.0\nepoch 35, loss: 960677.5625, accuracy: 0.0\n"
     ]
    },
    {
     "name": "stdout",
     "output_type": "stream",
     "text": [
      "epoch 36, loss: 914020.375, accuracy: 0.0\nepoch 37, loss: 870665.875, accuracy: 0.0\n"
     ]
    },
    {
     "name": "stdout",
     "output_type": "stream",
     "text": [
      "epoch 38, loss: 830306.4375, accuracy: 0.0\nepoch 39, loss: 792666.6875, accuracy: 0.0\n"
     ]
    },
    {
     "name": "stdout",
     "output_type": "stream",
     "text": [
      "epoch 40, loss: 757504.875, accuracy: 0.0\nepoch 41, loss: 724606.0625, accuracy: 0.0\n"
     ]
    },
    {
     "name": "stdout",
     "output_type": "stream",
     "text": [
      "epoch 42, loss: 693775.6875, accuracy: 0.0\nepoch 43, loss: 664843.9375, accuracy: 0.0\n"
     ]
    },
    {
     "name": "stdout",
     "output_type": "stream",
     "text": [
      "epoch 44, loss: 637652.375, accuracy: 0.0\nepoch 45, loss: 612063.25, accuracy: 0.0\n"
     ]
    },
    {
     "name": "stdout",
     "output_type": "stream",
     "text": [
      "epoch 46, loss: 587953.0, accuracy: 0.0005896226415094339\nepoch 47, loss: 565206.0625, accuracy: 0.0\n"
     ]
    },
    {
     "name": "stdout",
     "output_type": "stream",
     "text": [
      "epoch 48, loss: 543721.375, accuracy: 0.0\nepoch 49, loss: 523404.53125, accuracy: 0.0\n"
     ]
    },
    {
     "name": "stdout",
     "output_type": "stream",
     "text": [
      "epoch 50, loss: 504171.78125, accuracy: 0.0005896226415094339\nepoch 51, loss: 485947.0625, accuracy: 0.0011792452830188679\n"
     ]
    },
    {
     "name": "stdout",
     "output_type": "stream",
     "text": [
      "epoch 52, loss: 468658.78125, accuracy: 0.0011792452830188679\nepoch 53, loss: 452244.0625, accuracy: 0.0011792452830188679\n"
     ]
    },
    {
     "name": "stdout",
     "output_type": "stream",
     "text": [
      "epoch 54, loss: 436643.78125, accuracy: 0.0011792452830188679\nepoch 55, loss: 421805.0625, accuracy: 0.0011792452830188679\n"
     ]
    },
    {
     "name": "stdout",
     "output_type": "stream",
     "text": [
      "epoch 56, loss: 407678.1875, accuracy: 0.0005896226415094339\nepoch 57, loss: 394216.59375, accuracy: 0.0\n"
     ]
    },
    {
     "name": "stdout",
     "output_type": "stream",
     "text": [
      "epoch 58, loss: 381380.15625, accuracy: 0.0\nepoch 59, loss: 369130.125, accuracy: 0.0\n"
     ]
    },
    {
     "name": "stdout",
     "output_type": "stream",
     "text": [
      "epoch 60, loss: 357429.8125, accuracy: 0.0\nepoch 61, loss: 346247.125, accuracy: 0.0\n"
     ]
    },
    {
     "name": "stdout",
     "output_type": "stream",
     "text": [
      "epoch 62, loss: 335552.53125, accuracy: 0.0\nepoch 63, loss: 325317.65625, accuracy: 0.0\n"
     ]
    },
    {
     "name": "stdout",
     "output_type": "stream",
     "text": [
      "epoch 64, loss: 315514.78125, accuracy: 0.0\nepoch 65, loss: 306121.59375, accuracy: 0.0\n"
     ]
    },
    {
     "name": "stdout",
     "output_type": "stream",
     "text": [
      "epoch 66, loss: 297113.96875, accuracy: 0.0\nepoch 67, loss: 288471.4375, accuracy: 0.0\n"
     ]
    },
    {
     "name": "stdout",
     "output_type": "stream",
     "text": [
      "epoch 68, loss: 280175.59375, accuracy: 0.0\nepoch 69, loss: 272206.21875, accuracy: 0.0\n"
     ]
    },
    {
     "name": "stdout",
     "output_type": "stream",
     "text": [
      "epoch 70, loss: 264547.3125, accuracy: 0.0\nepoch 71, loss: 257182.359375, accuracy: 0.0\n"
     ]
    },
    {
     "name": "stdout",
     "output_type": "stream",
     "text": [
      "epoch 72, loss: 250096.890625, accuracy: 0.0\nepoch 73, loss: 243277.546875, accuracy: 0.0\n"
     ]
    },
    {
     "name": "stdout",
     "output_type": "stream",
     "text": [
      "epoch 74, loss: 236709.328125, accuracy: 0.0\nepoch 75, loss: 230382.0625, accuracy: 0.0\n"
     ]
    },
    {
     "name": "stdout",
     "output_type": "stream",
     "text": [
      "epoch 76, loss: 224282.4375, accuracy: 0.0\nepoch 77, loss: 218401.109375, accuracy: 0.0\n"
     ]
    },
    {
     "name": "stdout",
     "output_type": "stream",
     "text": [
      "epoch 78, loss: 212726.296875, accuracy: 0.0\nepoch 79, loss: 207249.578125, accuracy: 0.0005896226415094339\n"
     ]
    },
    {
     "name": "stdout",
     "output_type": "stream",
     "text": [
      "epoch 80, loss: 201961.703125, accuracy: 0.0005896226415094339\nepoch 81, loss: 196854.0625, accuracy: 0.0005896226415094339\n"
     ]
    },
    {
     "name": "stdout",
     "output_type": "stream",
     "text": [
      "epoch 82, loss: 191917.828125, accuracy: 0.0\nepoch 83, loss: 187146.671875, accuracy: 0.0005896226415094339\n"
     ]
    },
    {
     "name": "stdout",
     "output_type": "stream",
     "text": [
      "epoch 84, loss: 182532.875, accuracy: 0.0005896226415094339\nepoch 85, loss: 178069.015625, accuracy: 0.0005896226415094339\n"
     ]
    },
    {
     "name": "stdout",
     "output_type": "stream",
     "text": [
      "epoch 86, loss: 173749.171875, accuracy: 0.0005896226415094339\nepoch 87, loss: 169567.90625, accuracy: 0.0005896226415094339\n"
     ]
    },
    {
     "name": "stdout",
     "output_type": "stream",
     "text": [
      "epoch 88, loss: 165518.53125, accuracy: 0.0005896226415094339\nepoch 89, loss: 161595.890625, accuracy: 0.0005896226415094339\n"
     ]
    },
    {
     "name": "stdout",
     "output_type": "stream",
     "text": [
      "epoch 90, loss: 157794.4375, accuracy: 0.0005896226415094339\nepoch 91, loss: 154110.40625, accuracy: 0.0005896226415094339\n"
     ]
    },
    {
     "name": "stdout",
     "output_type": "stream",
     "text": [
      "epoch 92, loss: 150538.125, accuracy: 0.0005896226415094339\nepoch 93, loss: 147073.203125, accuracy: 0.0005896226415094339\n"
     ]
    },
    {
     "name": "stdout",
     "output_type": "stream",
     "text": [
      "epoch 94, loss: 143711.8125, accuracy: 0.0005896226415094339\nepoch 95, loss: 140449.875, accuracy: 0.0005896226415094339\n"
     ]
    },
    {
     "name": "stdout",
     "output_type": "stream",
     "text": [
      "epoch 96, loss: 137282.9375, accuracy: 0.0005896226415094339\nepoch 97, loss: 134208.453125, accuracy: 0.0005896226415094339\n"
     ]
    },
    {
     "name": "stdout",
     "output_type": "stream",
     "text": [
      "epoch 98, loss: 131222.15625, accuracy: 0.0005896226415094339\nepoch 99, loss: 128321.1484375, accuracy: 0.0005896226415094339\n"
     ]
    },
    {
     "name": "stdout",
     "output_type": "stream",
     "text": [
      "epoch 100, loss: 125501.5859375, accuracy: 0.0005896226415094339\nepoch 101, loss: 122761.6953125, accuracy: 0.0005896226415094339\n"
     ]
    },
    {
     "name": "stdout",
     "output_type": "stream",
     "text": [
      "epoch 102, loss: 120097.3203125, accuracy: 0.0005896226415094339\nepoch 103, loss: 117507.0390625, accuracy: 0.0005896226415094339\n"
     ]
    },
    {
     "name": "stdout",
     "output_type": "stream",
     "text": [
      "epoch 104, loss: 114987.0, accuracy: 0.0005896226415094339\nepoch 105, loss: 112535.53125, accuracy: 0.0005896226415094339\n"
     ]
    },
    {
     "name": "stdout",
     "output_type": "stream",
     "text": [
      "epoch 106, loss: 110149.5390625, accuracy: 0.0005896226415094339\nepoch 107, loss: 107827.4453125, accuracy: 0.0005896226415094339\n"
     ]
    },
    {
     "name": "stdout",
     "output_type": "stream",
     "text": [
      "epoch 108, loss: 105566.8515625, accuracy: 0.0005896226415094339\nepoch 109, loss: 103365.4375, accuracy: 0.0005896226415094339\n"
     ]
    },
    {
     "name": "stdout",
     "output_type": "stream",
     "text": [
      "epoch 110, loss: 101221.9140625, accuracy: 0.0005896226415094339\nepoch 111, loss: 99133.3046875, accuracy: 0.0005896226415094339\n"
     ]
    },
    {
     "name": "stdout",
     "output_type": "stream",
     "text": [
      "epoch 112, loss: 97098.3046875, accuracy: 0.0005896226415094339\nepoch 113, loss: 95115.421875, accuracy: 0.0005896226415094339\n"
     ]
    },
    {
     "name": "stdout",
     "output_type": "stream",
     "text": [
      "epoch 114, loss: 93182.4375, accuracy: 0.0005896226415094339\n"
     ]
    },
    {
     "name": "stdout",
     "output_type": "stream",
     "text": [
      "epoch 115, loss: 91298.1328125, accuracy: 0.0005896226415094339\nepoch 116, loss: 89460.7578125, accuracy: 0.0005896226415094339\n"
     ]
    },
    {
     "name": "stdout",
     "output_type": "stream",
     "text": [
      "epoch 117, loss: 87668.8671875, accuracy: 0.0011792452830188679\nepoch 118, loss: 85921.109375, accuracy: 0.0011792452830188679\n"
     ]
    },
    {
     "name": "stdout",
     "output_type": "stream",
     "text": [
      "epoch 119, loss: 84215.546875, accuracy: 0.0011792452830188679\n"
     ]
    },
    {
     "name": "stdout",
     "output_type": "stream",
     "text": [
      "epoch 120, loss: 82551.6796875, accuracy: 0.0011792452830188679\n"
     ]
    },
    {
     "name": "stdout",
     "output_type": "stream",
     "text": [
      "epoch 121, loss: 80928.0390625, accuracy: 0.0011792452830188679\n"
     ]
    },
    {
     "name": "stdout",
     "output_type": "stream",
     "text": [
      "epoch 122, loss: 79343.2421875, accuracy: 0.0011792452830188679\n"
     ]
    },
    {
     "name": "stdout",
     "output_type": "stream",
     "text": [
      "epoch 123, loss: 77795.7734375, accuracy: 0.0005896226415094339\nepoch 124, loss: 76285.09375, accuracy: 0.0005896226415094339\n"
     ]
    },
    {
     "name": "stdout",
     "output_type": "stream",
     "text": [
      "epoch 125, loss: 74809.7265625, accuracy: 0.0005896226415094339\nepoch 126, loss: 73369.0625, accuracy: 0.0005896226415094339\n"
     ]
    },
    {
     "name": "stdout",
     "output_type": "stream",
     "text": [
      "epoch 127, loss: 71961.3359375, accuracy: 0.0005896226415094339\nepoch 128, loss: 70586.453125, accuracy: 0.0005896226415094339\n"
     ]
    },
    {
     "name": "stdout",
     "output_type": "stream",
     "text": [
      "epoch 129, loss: 69242.8125, accuracy: 0.0005896226415094339\n"
     ]
    },
    {
     "name": "stdout",
     "output_type": "stream",
     "text": [
      "epoch 130, loss: 67929.8203125, accuracy: 0.0005896226415094339\nepoch 131, loss: 66646.4453125, accuracy: 0.0005896226415094339\n"
     ]
    },
    {
     "name": "stdout",
     "output_type": "stream",
     "text": [
      "epoch 132, loss: 65391.97265625, accuracy: 0.0005896226415094339\nepoch 133, loss: 64165.51953125, accuracy: 0.0005896226415094339\n"
     ]
    },
    {
     "name": "stdout",
     "output_type": "stream",
     "text": [
      "epoch 134, loss: 62966.12109375, accuracy: 0.0005896226415094339\nepoch 135, loss: 61793.41015625, accuracy: 0.0005896226415094339\n"
     ]
    },
    {
     "name": "stdout",
     "output_type": "stream",
     "text": [
      "epoch 136, loss: 60646.59375, accuracy: 0.0005896226415094339\nepoch 137, loss: 59524.74609375, accuracy: 0.0005896226415094339\n"
     ]
    },
    {
     "name": "stdout",
     "output_type": "stream",
     "text": [
      "epoch 138, loss: 58427.046875, accuracy: 0.0005896226415094339\nepoch 139, loss: 57353.16015625, accuracy: 0.0005896226415094339\n"
     ]
    },
    {
     "name": "stdout",
     "output_type": "stream",
     "text": [
      "epoch 140, loss: 56302.39453125, accuracy: 0.0005896226415094339\nepoch 141, loss: 55274.16796875, accuracy: 0.0005896226415094339\n"
     ]
    },
    {
     "name": "stdout",
     "output_type": "stream",
     "text": [
      "epoch 142, loss: 54267.33984375, accuracy: 0.0005896226415094339\nepoch 143, loss: 53282.546875, accuracy: 0.0005896226415094339\n"
     ]
    },
    {
     "name": "stdout",
     "output_type": "stream",
     "text": [
      "epoch 144, loss: 52317.7890625, accuracy: 0.0005896226415094339\nepoch 145, loss: 51373.58984375, accuracy: 0.0005896226415094339\n"
     ]
    },
    {
     "name": "stdout",
     "output_type": "stream",
     "text": [
      "epoch 146, loss: 50449.2265625, accuracy: 0.0005896226415094339\nepoch 147, loss: 49544.1171875, accuracy: 0.0005896226415094339\n"
     ]
    },
    {
     "name": "stdout",
     "output_type": "stream",
     "text": [
      "epoch 148, loss: 48657.31640625, accuracy: 0.0005896226415094339\nepoch 149, loss: 47788.61328125, accuracy: 0.0005896226415094339\n"
     ]
    },
    {
     "name": "stdout",
     "output_type": "stream",
     "text": [
      "epoch 150, loss: 46938.13671875, accuracy: 0.0005896226415094339\nepoch 151, loss: 46104.20703125, accuracy: 0.0005896226415094339\n"
     ]
    },
    {
     "name": "stdout",
     "output_type": "stream",
     "text": [
      "epoch 152, loss: 45288.0703125, accuracy: 0.0005896226415094339\nepoch 153, loss: 44487.6171875, accuracy: 0.0005896226415094339\n"
     ]
    },
    {
     "name": "stdout",
     "output_type": "stream",
     "text": [
      "epoch 154, loss: 43703.75, accuracy: 0.0005896226415094339\nepoch 155, loss: 42935.2734375, accuracy: 0.0005896226415094339\n"
     ]
    },
    {
     "name": "stdout",
     "output_type": "stream",
     "text": [
      "epoch 156, loss: 42181.95703125, accuracy: 0.0005896226415094339\nepoch 157, loss: 41443.70703125, accuracy: 0.0005896226415094339\n"
     ]
    },
    {
     "name": "stdout",
     "output_type": "stream",
     "text": [
      "epoch 158, loss: 40719.98046875, accuracy: 0.0005896226415094339\nepoch 159, loss: 40010.37890625, accuracy: 0.0005896226415094339\n"
     ]
    },
    {
     "name": "stdout",
     "output_type": "stream",
     "text": [
      "epoch 160, loss: 39314.6796875, accuracy: 0.0005896226415094339\nepoch 161, loss: 38632.59375, accuracy: 0.0005896226415094339\n"
     ]
    },
    {
     "name": "stdout",
     "output_type": "stream",
     "text": [
      "epoch 162, loss: 37963.74609375, accuracy: 0.0005896226415094339\nepoch 163, loss: 37307.8125, accuracy: 0.0005896226415094339\n"
     ]
    },
    {
     "name": "stdout",
     "output_type": "stream",
     "text": [
      "epoch 164, loss: 36664.2890625, accuracy: 0.0005896226415094339\nepoch 165, loss: 36033.0703125, accuracy: 0.0005896226415094339\n"
     ]
    },
    {
     "name": "stdout",
     "output_type": "stream",
     "text": [
      "epoch 166, loss: 35414.37109375, accuracy: 0.0005896226415094339\nepoch 167, loss: 34806.7578125, accuracy: 0.0005896226415094339\n"
     ]
    },
    {
     "name": "stdout",
     "output_type": "stream",
     "text": [
      "epoch 168, loss: 34210.85546875, accuracy: 0.0005896226415094339\nepoch 169, loss: 33626.40625, accuracy: 0.0005896226415094339\n"
     ]
    },
    {
     "name": "stdout",
     "output_type": "stream",
     "text": [
      "epoch 170, loss: 33052.8125, accuracy: 0.0005896226415094339\nepoch 171, loss: 32489.88671875, accuracy: 0.0005896226415094339\n"
     ]
    },
    {
     "name": "stdout",
     "output_type": "stream",
     "text": [
      "epoch 172, loss: 31937.56640625, accuracy: 0.0005896226415094339\nepoch 173, loss: 31395.318359375, accuracy: 0.0005896226415094339\n"
     ]
    },
    {
     "name": "stdout",
     "output_type": "stream",
     "text": [
      "epoch 174, loss: 30863.197265625, accuracy: 0.0005896226415094339\nepoch 175, loss: 30340.716796875, accuracy: 0.0005896226415094339\n"
     ]
    },
    {
     "name": "stdout",
     "output_type": "stream",
     "text": [
      "epoch 176, loss: 29827.9921875, accuracy: 0.0005896226415094339\nepoch 177, loss: 29324.837890625, accuracy: 0.0005896226415094339\n"
     ]
    },
    {
     "name": "stdout",
     "output_type": "stream",
     "text": [
      "epoch 178, loss: 28830.796875, accuracy: 0.0011792452830188679\nepoch 179, loss: 28345.34375, accuracy: 0.0011792452830188679\n"
     ]
    },
    {
     "name": "stdout",
     "output_type": "stream",
     "text": [
      "epoch 180, loss: 27869.0, accuracy: 0.0011792452830188679\nepoch 181, loss: 27401.169921875, accuracy: 0.0011792452830188679\n"
     ]
    },
    {
     "name": "stdout",
     "output_type": "stream",
     "text": [
      "epoch 182, loss: 26941.876953125, accuracy: 0.0011792452830188679\nepoch 183, loss: 26490.705078125, accuracy: 0.0011792452830188679\n"
     ]
    },
    {
     "name": "stdout",
     "output_type": "stream",
     "text": [
      "epoch 184, loss: 26047.849609375, accuracy: 0.0011792452830188679\nepoch 185, loss: 25612.75390625, accuracy: 0.0005896226415094339\n"
     ]
    },
    {
     "name": "stdout",
     "output_type": "stream",
     "text": [
      "epoch 186, loss: 25185.390625, accuracy: 0.0011792452830188679\n"
     ]
    },
    {
     "name": "stdout",
     "output_type": "stream",
     "text": [
      "epoch 187, loss: 24765.271484375, accuracy: 0.0011792452830188679\nepoch 188, loss: 24353.060546875, accuracy: 0.0011792452830188679\n"
     ]
    },
    {
     "name": "stdout",
     "output_type": "stream",
     "text": [
      "epoch 189, loss: 23947.673828125, accuracy: 0.001768867924528302\nepoch 190, loss: 23549.9921875, accuracy: 0.001768867924528302\n"
     ]
    },
    {
     "name": "stdout",
     "output_type": "stream",
     "text": [
      "epoch 191, loss: 23158.923828125, accuracy: 0.001768867924528302\nepoch 192, loss: 22774.6171875, accuracy: 0.0011792452830188679\n"
     ]
    },
    {
     "name": "stdout",
     "output_type": "stream",
     "text": [
      "epoch 193, loss: 22396.923828125, accuracy: 0.0011792452830188679\nepoch 194, loss: 22026.197265625, accuracy: 0.0011792452830188679\n"
     ]
    },
    {
     "name": "stdout",
     "output_type": "stream",
     "text": [
      "epoch 195, loss: 21661.833984375, accuracy: 0.0011792452830188679\nepoch 196, loss: 21303.419921875, accuracy: 0.0011792452830188679\n"
     ]
    },
    {
     "name": "stdout",
     "output_type": "stream",
     "text": [
      "epoch 197, loss: 20951.376953125, accuracy: 0.0011792452830188679\nepoch 198, loss: 20605.3671875, accuracy: 0.0011792452830188679\n"
     ]
    },
    {
     "name": "stdout",
     "output_type": "stream",
     "text": [
      "epoch 199, loss: 20265.4296875, accuracy: 0.001768867924528302\nepoch 200, loss: 19931.140625, accuracy: 0.0023584905660377358\n"
     ]
    },
    {
     "name": "stdout",
     "output_type": "stream",
     "text": [
      "epoch 201, loss: 19602.4921875, accuracy: 0.0023584905660377358\nepoch 202, loss: 19279.751953125, accuracy: 0.00294811320754717\n"
     ]
    },
    {
     "name": "stdout",
     "output_type": "stream",
     "text": [
      "epoch 203, loss: 18962.337890625, accuracy: 0.0023584905660377358\nepoch 204, loss: 18650.173828125, accuracy: 0.001768867924528302\n"
     ]
    },
    {
     "name": "stdout",
     "output_type": "stream",
     "text": [
      "epoch 205, loss: 18343.431640625, accuracy: 0.0011792452830188679\nepoch 206, loss: 18041.7421875, accuracy: 0.0011792452830188679\n"
     ]
    },
    {
     "name": "stdout",
     "output_type": "stream",
     "text": [
      "epoch 207, loss: 17745.275390625, accuracy: 0.0011792452830188679\nepoch 208, loss: 17453.759765625, accuracy: 0.0011792452830188679\n"
     ]
    },
    {
     "name": "stdout",
     "output_type": "stream",
     "text": [
      "epoch 209, loss: 17166.974609375, accuracy: 0.001768867924528302\nepoch 210, loss: 16885.212890625, accuracy: 0.001768867924528302\n"
     ]
    },
    {
     "name": "stdout",
     "output_type": "stream",
     "text": [
      "epoch 211, loss: 16608.09375, accuracy: 0.001768867924528302\nepoch 212, loss: 16335.5419921875, accuracy: 0.001768867924528302\n"
     ]
    },
    {
     "name": "stdout",
     "output_type": "stream",
     "text": [
      "epoch 213, loss: 16067.5849609375, accuracy: 0.0011792452830188679\nepoch 214, loss: 15803.9619140625, accuracy: 0.0005896226415094339\n"
     ]
    },
    {
     "name": "stdout",
     "output_type": "stream",
     "text": [
      "epoch 215, loss: 15544.84765625, accuracy: 0.0005896226415094339\nepoch 216, loss: 15289.783203125, accuracy: 0.0005896226415094339\n"
     ]
    },
    {
     "name": "stdout",
     "output_type": "stream",
     "text": [
      "epoch 217, loss: 15039.0380859375, accuracy: 0.0005896226415094339\nepoch 218, loss: 14792.4951171875, accuracy: 0.0005896226415094339\n"
     ]
    },
    {
     "name": "stdout",
     "output_type": "stream",
     "text": [
      "epoch 219, loss: 14549.9892578125, accuracy: 0.0005896226415094339\nepoch 220, loss: 14311.4052734375, accuracy: 0.0005896226415094339\n"
     ]
    },
    {
     "name": "stdout",
     "output_type": "stream",
     "text": [
      "epoch 221, loss: 14076.7705078125, accuracy: 0.0005896226415094339\nepoch 222, loss: 13845.9765625, accuracy: 0.0005896226415094339\n"
     ]
    },
    {
     "name": "stdout",
     "output_type": "stream",
     "text": [
      "epoch 223, loss: 13619.0859375, accuracy: 0.0005896226415094339\nepoch 224, loss: 13395.80859375, accuracy: 0.0005896226415094339\n"
     ]
    },
    {
     "name": "stdout",
     "output_type": "stream",
     "text": [
      "epoch 225, loss: 13176.0869140625, accuracy: 0.0005896226415094339\nepoch 226, loss: 12959.8701171875, accuracy: 0.0005896226415094339\n"
     ]
    },
    {
     "name": "stdout",
     "output_type": "stream",
     "text": [
      "epoch 227, loss: 12747.248046875, accuracy: 0.0005896226415094339\nepoch 228, loss: 12538.1640625, accuracy: 0.0005896226415094339\n"
     ]
    },
    {
     "name": "stdout",
     "output_type": "stream",
     "text": [
      "epoch 229, loss: 12332.3916015625, accuracy: 0.0005896226415094339\nepoch 230, loss: 12129.9580078125, accuracy: 0.0005896226415094339\n"
     ]
    },
    {
     "name": "stdout",
     "output_type": "stream",
     "text": [
      "epoch 231, loss: 11930.78515625, accuracy: 0.0005896226415094339\nepoch 232, loss: 11734.86328125, accuracy: 0.0005896226415094339\n"
     ]
    },
    {
     "name": "stdout",
     "output_type": "stream",
     "text": [
      "epoch 233, loss: 11541.8369140625, accuracy: 0.0005896226415094339\nepoch 234, loss: 11352.138671875, accuracy: 0.0005896226415094339\n"
     ]
    },
    {
     "name": "stdout",
     "output_type": "stream",
     "text": [
      "epoch 235, loss: 11165.5625, accuracy: 0.0011792452830188679\nepoch 236, loss: 10981.9013671875, accuracy: 0.0011792452830188679\n"
     ]
    },
    {
     "name": "stdout",
     "output_type": "stream",
     "text": [
      "epoch 237, loss: 10801.1630859375, accuracy: 0.0011792452830188679\nepoch 238, loss: 10623.326171875, accuracy: 0.0011792452830188679\n"
     ]
    },
    {
     "name": "stdout",
     "output_type": "stream",
     "text": [
      "epoch 239, loss: 10448.283203125, accuracy: 0.0011792452830188679\nepoch 240, loss: 10276.0380859375, accuracy: 0.0011792452830188679\n"
     ]
    },
    {
     "name": "stdout",
     "output_type": "stream",
     "text": [
      "epoch 241, loss: 10106.6064453125, accuracy: 0.0011792452830188679\nepoch 242, loss: 9939.9931640625, accuracy: 0.0011792452830188679\n"
     ]
    },
    {
     "name": "stdout",
     "output_type": "stream",
     "text": [
      "epoch 243, loss: 9775.91015625, accuracy: 0.0011792452830188679\nepoch 244, loss: 9614.2880859375, accuracy: 0.0011792452830188679\n"
     ]
    },
    {
     "name": "stdout",
     "output_type": "stream",
     "text": [
      "epoch 245, loss: 9455.4326171875, accuracy: 0.0011792452830188679\nepoch 246, loss: 9299.0947265625, accuracy: 0.001768867924528302\n"
     ]
    },
    {
     "name": "stdout",
     "output_type": "stream",
     "text": [
      "epoch 247, loss: 9145.232421875, accuracy: 0.001768867924528302\nepoch 248, loss: 8993.6796875, accuracy: 0.001768867924528302\n"
     ]
    },
    {
     "name": "stdout",
     "output_type": "stream",
     "text": [
      "epoch 249, loss: 8844.5546875, accuracy: 0.0023584905660377358\nepoch 250, loss: 8697.81640625, accuracy: 0.0023584905660377358\n"
     ]
    },
    {
     "name": "stdout",
     "output_type": "stream",
     "text": [
      "epoch 251, loss: 8553.5341796875, accuracy: 0.0023584905660377358\nepoch 252, loss: 8411.2744140625, accuracy: 0.0023584905660377358\n"
     ]
    },
    {
     "name": "stdout",
     "output_type": "stream",
     "text": [
      "epoch 253, loss: 8271.4892578125, accuracy: 0.0011792452830188679\nepoch 254, loss: 8133.7734375, accuracy: 0.0011792452830188679\n"
     ]
    },
    {
     "name": "stdout",
     "output_type": "stream",
     "text": [
      "epoch 255, loss: 7998.40380859375, accuracy: 0.001768867924528302\nepoch 256, loss: 7865.0537109375, accuracy: 0.001768867924528302\n"
     ]
    },
    {
     "name": "stdout",
     "output_type": "stream",
     "text": [
      "epoch 257, loss: 7733.80322265625, accuracy: 0.001768867924528302\nepoch 258, loss: 7604.55712890625, accuracy: 0.001768867924528302\n"
     ]
    },
    {
     "name": "stdout",
     "output_type": "stream",
     "text": [
      "epoch 259, loss: 7477.39453125, accuracy: 0.0011792452830188679\n"
     ]
    },
    {
     "name": "stdout",
     "output_type": "stream",
     "text": [
      "epoch 260, loss: 7352.2744140625, accuracy: 0.0011792452830188679\nepoch 261, loss: 7229.1181640625, accuracy: 0.0011792452830188679\n"
     ]
    },
    {
     "name": "stdout",
     "output_type": "stream",
     "text": [
      "epoch 262, loss: 7107.83349609375, accuracy: 0.0011792452830188679\nepoch 263, loss: 6988.49951171875, accuracy: 0.0005896226415094339\n"
     ]
    },
    {
     "name": "stdout",
     "output_type": "stream",
     "text": [
      "epoch 264, loss: 6871.08203125, accuracy: 0.0005896226415094339\nepoch 265, loss: 6755.42626953125, accuracy: 0.0005896226415094339\n"
     ]
    },
    {
     "name": "stdout",
     "output_type": "stream",
     "text": [
      "epoch 266, loss: 6641.6298828125, accuracy: 0.0005896226415094339\nepoch 267, loss: 6529.64306640625, accuracy: 0.0005896226415094339\n"
     ]
    },
    {
     "name": "stdout",
     "output_type": "stream",
     "text": [
      "epoch 268, loss: 6419.5068359375, accuracy: 0.0005896226415094339\nepoch 269, loss: 6310.96875, accuracy: 0.0005896226415094339\n"
     ]
    },
    {
     "name": "stdout",
     "output_type": "stream",
     "text": [
      "epoch 270, loss: 6204.15576171875, accuracy: 0.0011792452830188679\nepoch 271, loss: 6099.01416015625, accuracy: 0.0011792452830188679\n"
     ]
    },
    {
     "name": "stdout",
     "output_type": "stream",
     "text": [
      "epoch 272, loss: 5995.5654296875, accuracy: 0.0011792452830188679\nepoch 273, loss: 5893.65966796875, accuracy: 0.0011792452830188679\n"
     ]
    },
    {
     "name": "stdout",
     "output_type": "stream",
     "text": [
      "epoch 274, loss: 5793.4033203125, accuracy: 0.001768867924528302\nepoch 275, loss: 5694.77294921875, accuracy: 0.001768867924528302\n"
     ]
    },
    {
     "name": "stdout",
     "output_type": "stream",
     "text": [
      "epoch 276, loss: 5597.619140625, accuracy: 0.001768867924528302\nepoch 277, loss: 5501.9111328125, accuracy: 0.001768867924528302\n"
     ]
    },
    {
     "name": "stdout",
     "output_type": "stream",
     "text": [
      "epoch 278, loss: 5407.84423828125, accuracy: 0.001768867924528302\nepoch 279, loss: 5315.24755859375, accuracy: 0.0023584905660377358\n"
     ]
    },
    {
     "name": "stdout",
     "output_type": "stream",
     "text": [
      "epoch 280, loss: 5224.1181640625, accuracy: 0.0023584905660377358\n"
     ]
    },
    {
     "name": "stdout",
     "output_type": "stream",
     "text": [
      "epoch 281, loss: 5134.35986328125, accuracy: 0.0023584905660377358\nepoch 282, loss: 5046.05712890625, accuracy: 0.001768867924528302\n"
     ]
    },
    {
     "name": "stdout",
     "output_type": "stream",
     "text": [
      "epoch 283, loss: 4959.06884765625, accuracy: 0.001768867924528302\n"
     ]
    },
    {
     "name": "stdout",
     "output_type": "stream",
     "text": [
      "epoch 284, loss: 4873.44677734375, accuracy: 0.001768867924528302\nepoch 285, loss: 4789.2119140625, accuracy: 0.001768867924528302\n"
     ]
    },
    {
     "name": "stdout",
     "output_type": "stream",
     "text": [
      "epoch 286, loss: 4706.4169921875, accuracy: 0.001768867924528302\nepoch 287, loss: 4624.830078125, accuracy: 0.001768867924528302\n"
     ]
    },
    {
     "name": "stdout",
     "output_type": "stream",
     "text": [
      "epoch 288, loss: 4544.45654296875, accuracy: 0.001768867924528302\nepoch 289, loss: 4465.35498046875, accuracy: 0.001768867924528302\n"
     ]
    },
    {
     "name": "stdout",
     "output_type": "stream",
     "text": [
      "epoch 290, loss: 4387.67431640625, accuracy: 0.001768867924528302\nepoch 291, loss: 4311.005859375, accuracy: 0.001768867924528302\n"
     ]
    },
    {
     "name": "stdout",
     "output_type": "stream",
     "text": [
      "epoch 292, loss: 4235.74755859375, accuracy: 0.001768867924528302\nepoch 293, loss: 4161.494140625, accuracy: 0.001768867924528302\n"
     ]
    },
    {
     "name": "stdout",
     "output_type": "stream",
     "text": [
      "epoch 294, loss: 4088.606689453125, accuracy: 0.0023584905660377358\nepoch 295, loss: 4016.827880859375, accuracy: 0.0023584905660377358\n"
     ]
    },
    {
     "name": "stdout",
     "output_type": "stream",
     "text": [
      "epoch 296, loss: 3946.09326171875, accuracy: 0.00294811320754717\nepoch 297, loss: 3876.51123046875, accuracy: 0.003537735849056604\n"
     ]
    },
    {
     "name": "stdout",
     "output_type": "stream",
     "text": [
      "epoch 298, loss: 3807.990234375, accuracy: 0.004127358490566038\nepoch 299, loss: 3740.65966796875, accuracy: 0.004127358490566038\n"
     ]
    },
    {
     "name": "stdout",
     "output_type": "stream",
     "text": [
      "epoch 300, loss: 3674.275390625, accuracy: 0.004127358490566038\nepoch 301, loss: 3609.022705078125, accuracy: 0.004127358490566038\n"
     ]
    },
    {
     "name": "stdout",
     "output_type": "stream",
     "text": [
      "epoch 302, loss: 3544.81494140625, accuracy: 0.00294811320754717\nepoch 303, loss: 3481.677001953125, accuracy: 0.00294811320754717\n"
     ]
    },
    {
     "name": "stdout",
     "output_type": "stream",
     "text": [
      "epoch 304, loss: 3419.406494140625, accuracy: 0.0023584905660377358\nepoch 305, loss: 3358.22216796875, accuracy: 0.0023584905660377358\n"
     ]
    },
    {
     "name": "stdout",
     "output_type": "stream",
     "text": [
      "epoch 306, loss: 3298.030029296875, accuracy: 0.0023584905660377358\nepoch 307, loss: 3238.771240234375, accuracy: 0.0023584905660377358\n"
     ]
    },
    {
     "name": "stdout",
     "output_type": "stream",
     "text": [
      "epoch 308, loss: 3180.39892578125, accuracy: 0.001768867924528302\nepoch 309, loss: 3123.092529296875, accuracy: 0.001768867924528302\n"
     ]
    },
    {
     "name": "stdout",
     "output_type": "stream",
     "text": [
      "epoch 310, loss: 3066.5498046875, accuracy: 0.001768867924528302\nepoch 311, loss: 3011.0537109375, accuracy: 0.0005896226415094339\n"
     ]
    },
    {
     "name": "stdout",
     "output_type": "stream",
     "text": [
      "epoch 312, loss: 2956.36328125, accuracy: 0.0011792452830188679\nepoch 313, loss: 2902.560546875, accuracy: 0.0011792452830188679\n"
     ]
    },
    {
     "name": "stdout",
     "output_type": "stream",
     "text": [
      "epoch 314, loss: 2849.676513671875, accuracy: 0.0011792452830188679\nepoch 315, loss: 2797.5712890625, accuracy: 0.001768867924528302\n"
     ]
    },
    {
     "name": "stdout",
     "output_type": "stream",
     "text": [
      "epoch 316, loss: 2746.310791015625, accuracy: 0.001768867924528302\nepoch 317, loss: 2695.982666015625, accuracy: 0.0023584905660377358\n"
     ]
    },
    {
     "name": "stdout",
     "output_type": "stream",
     "text": [
      "epoch 318, loss: 2646.362548828125, accuracy: 0.0023584905660377358\nepoch 319, loss: 2597.54248046875, accuracy: 0.0023584905660377358\n"
     ]
    },
    {
     "name": "stdout",
     "output_type": "stream",
     "text": [
      "epoch 320, loss: 2549.64794921875, accuracy: 0.001768867924528302\nepoch 321, loss: 2502.453369140625, accuracy: 0.001768867924528302\n"
     ]
    },
    {
     "name": "stdout",
     "output_type": "stream",
     "text": [
      "epoch 322, loss: 2455.971435546875, accuracy: 0.001768867924528302\nepoch 323, loss: 2410.284423828125, accuracy: 0.001768867924528302\n"
     ]
    },
    {
     "name": "stdout",
     "output_type": "stream",
     "text": [
      "epoch 324, loss: 2365.34130859375, accuracy: 0.0023584905660377358\nepoch 325, loss: 2321.218505859375, accuracy: 0.00294811320754717"
     ]
    },
    {
     "name": "stdout",
     "output_type": "stream",
     "text": [
      "\nepoch 326, loss: 2277.671630859375, accuracy: 0.00294811320754717\nepoch 327, loss: 2234.936279296875, accuracy: 0.003537735849056604\n"
     ]
    },
    {
     "name": "stdout",
     "output_type": "stream",
     "text": [
      "epoch 328, loss: 2192.89453125, accuracy: 0.00294811320754717\nepoch 329, loss: 2151.460693359375, accuracy: 0.003537735849056604\n"
     ]
    },
    {
     "name": "stdout",
     "output_type": "stream",
     "text": [
      "epoch 330, loss: 2110.807373046875, accuracy: 0.00294811320754717\nepoch 331, loss: 2070.771240234375, accuracy: 0.00294811320754717\n"
     ]
    },
    {
     "name": "stdout",
     "output_type": "stream",
     "text": [
      "epoch 332, loss: 2031.4312744140625, accuracy: 0.00294811320754717\nepoch 333, loss: 1992.732177734375, accuracy: 0.00294811320754717\n"
     ]
    },
    {
     "name": "stdout",
     "output_type": "stream",
     "text": [
      "epoch 334, loss: 1954.7054443359375, accuracy: 0.004127358490566038\nepoch 335, loss: 1917.2864990234375, accuracy: 0.004127358490566038\n"
     ]
    },
    {
     "name": "stdout",
     "output_type": "stream",
     "text": [
      "epoch 336, loss: 1880.467529296875, accuracy: 0.004127358490566038\nepoch 337, loss: 1844.246337890625, accuracy: 0.0047169811320754715\n"
     ]
    },
    {
     "name": "stdout",
     "output_type": "stream",
     "text": [
      "epoch 338, loss: 1808.6827392578125, accuracy: 0.0047169811320754715\nepoch 339, loss: 1773.6781005859375, accuracy: 0.004127358490566038\n"
     ]
    },
    {
     "name": "stdout",
     "output_type": "stream",
     "text": [
      "epoch 340, loss: 1739.311767578125, accuracy: 0.004127358490566038\nepoch 341, loss: 1705.485107421875, accuracy: 0.004127358490566038\n"
     ]
    },
    {
     "name": "stdout",
     "output_type": "stream",
     "text": [
      "epoch 342, loss: 1672.213134765625, accuracy: 0.004127358490566038\nepoch 343, loss: 1639.5494384765625, accuracy: 0.004127358490566038\n"
     ]
    },
    {
     "name": "stdout",
     "output_type": "stream",
     "text": [
      "epoch 344, loss: 1607.401123046875, accuracy: 0.004127358490566038\nepoch 345, loss: 1575.762939453125, accuracy: 0.003537735849056604\n"
     ]
    },
    {
     "name": "stdout",
     "output_type": "stream",
     "text": [
      "epoch 346, loss: 1544.7484130859375, accuracy: 0.003537735849056604\nepoch 347, loss: 1514.2376708984375, accuracy: 0.00294811320754717\n"
     ]
    },
    {
     "name": "stdout",
     "output_type": "stream",
     "text": [
      "epoch 348, loss: 1484.1993408203125, accuracy: 0.0023584905660377358\nepoch 349, loss: 1454.7431640625, accuracy: 0.001768867924528302\n"
     ]
    },
    {
     "name": "stdout",
     "output_type": "stream",
     "text": [
      "epoch 350, loss: 1425.7237548828125, accuracy: 0.001768867924528302\nepoch 351, loss: 1397.22607421875, accuracy: 0.0023584905660377358\n"
     ]
    },
    {
     "name": "stdout",
     "output_type": "stream",
     "text": [
      "epoch 352, loss: 1369.201416015625, accuracy: 0.0023584905660377358\nepoch 353, loss: 1341.7154541015625, accuracy: 0.00294811320754717\n"
     ]
    },
    {
     "name": "stdout",
     "output_type": "stream",
     "text": [
      "epoch 354, loss: 1314.650634765625, accuracy: 0.00294811320754717\nepoch 355, loss: 1288.1162109375, accuracy: 0.00294811320754717\n"
     ]
    },
    {
     "name": "stdout",
     "output_type": "stream",
     "text": [
      "epoch 356, loss: 1262.0106201171875, accuracy: 0.00294811320754717\n"
     ]
    },
    {
     "name": "stdout",
     "output_type": "stream",
     "text": [
      "epoch 357, loss: 1236.360595703125, accuracy: 0.001768867924528302\n"
     ]
    },
    {
     "name": "stdout",
     "output_type": "stream",
     "text": [
      "epoch 358, loss: 1211.149658203125, accuracy: 0.001768867924528302\n"
     ]
    },
    {
     "name": "stdout",
     "output_type": "stream",
     "text": [
      "epoch 359, loss: 1186.340087890625, accuracy: 0.001768867924528302\nepoch 360, loss: 1162.060302734375, accuracy: 0.0023584905660377358\n"
     ]
    },
    {
     "name": "stdout",
     "output_type": "stream",
     "text": [
      "epoch 361, loss: 1138.1536865234375, accuracy: 0.001768867924528302\nepoch 362, loss: 1114.64013671875, accuracy: 0.001768867924528302\n"
     ]
    },
    {
     "name": "stdout",
     "output_type": "stream",
     "text": [
      "epoch 363, loss: 1091.5821533203125, accuracy: 0.0023584905660377358\nepoch 364, loss: 1068.9364013671875, accuracy: 0.0023584905660377358\n"
     ]
    },
    {
     "name": "stdout",
     "output_type": "stream",
     "text": [
      "epoch 365, loss: 1046.6634521484375, accuracy: 0.0023584905660377358\nepoch 366, loss: 1024.8056640625, accuracy: 0.0023584905660377358\n"
     ]
    },
    {
     "name": "stdout",
     "output_type": "stream",
     "text": [
      "epoch 367, loss: 1003.3778076171875, accuracy: 0.0023584905660377358\nepoch 368, loss: 982.2454833984375, accuracy: 0.0023584905660377358\n"
     ]
    },
    {
     "name": "stdout",
     "output_type": "stream",
     "text": [
      "epoch 369, loss: 961.5653686523438, accuracy: 0.0023584905660377358\nepoch 370, loss: 941.2387084960938, accuracy: 0.00294811320754717\n"
     ]
    },
    {
     "name": "stdout",
     "output_type": "stream",
     "text": [
      "epoch 371, loss: 921.2268676757812, accuracy: 0.00294811320754717\nepoch 372, loss: 901.6566162109375, accuracy: 0.003537735849056604\n"
     ]
    },
    {
     "name": "stdout",
     "output_type": "stream",
     "text": [
      "epoch 373, loss: 882.37548828125, accuracy: 0.00294811320754717\nepoch 374, loss: 863.4857177734375, accuracy: 0.00294811320754717\n"
     ]
    },
    {
     "name": "stdout",
     "output_type": "stream",
     "text": [
      "epoch 375, loss: 844.9453735351562, accuracy: 0.003537735849056604\nepoch 376, loss: 826.731201171875, accuracy: 0.0047169811320754715\n"
     ]
    },
    {
     "name": "stdout",
     "output_type": "stream",
     "text": [
      "epoch 377, loss: 808.8706665039062, accuracy: 0.0047169811320754715\nepoch 378, loss: 791.30908203125, accuracy: 0.004127358490566038\n"
     ]
    },
    {
     "name": "stdout",
     "output_type": "stream",
     "text": [
      "epoch 379, loss: 774.0817260742188, accuracy: 0.004127358490566038\nepoch 380, loss: 757.1619873046875, accuracy: 0.004127358490566038\n"
     ]
    },
    {
     "name": "stdout",
     "output_type": "stream",
     "text": [
      "epoch 381, loss: 740.5728759765625, accuracy: 0.004127358490566038\nepoch 382, loss: 724.3185424804688, accuracy: 0.004127358490566038\n"
     ]
    },
    {
     "name": "stdout",
     "output_type": "stream",
     "text": [
      "epoch 383, loss: 708.3172607421875, accuracy: 0.004127358490566038\nepoch 384, loss: 692.6563720703125, accuracy: 0.003537735849056604\n"
     ]
    },
    {
     "name": "stdout",
     "output_type": "stream",
     "text": [
      "epoch 385, loss: 677.290771484375, accuracy: 0.003537735849056604\nepoch 386, loss: 662.1546020507812, accuracy: 0.004127358490566038\n"
     ]
    },
    {
     "name": "stdout",
     "output_type": "stream",
     "text": [
      "epoch 387, loss: 647.3866577148438, accuracy: 0.004127358490566038\nepoch 388, loss: 632.8392333984375, accuracy: 0.003537735849056604\n"
     ]
    },
    {
     "name": "stdout",
     "output_type": "stream",
     "text": [
      "epoch 389, loss: 618.6074829101562, accuracy: 0.004127358490566038\nepoch 390, loss: 604.6689453125, accuracy: 0.003537735849056604\n"
     ]
    },
    {
     "name": "stdout",
     "output_type": "stream",
     "text": [
      "epoch 391, loss: 590.9479370117188, accuracy: 0.004127358490566038\nepoch 392, loss: 577.477783203125, accuracy: 0.004127358490566038\n"
     ]
    },
    {
     "name": "stdout",
     "output_type": "stream",
     "text": [
      "epoch 393, loss: 564.3046264648438, accuracy: 0.0047169811320754715\nepoch 394, loss: 551.3941040039062, accuracy: 0.004127358490566038\n"
     ]
    },
    {
     "name": "stdout",
     "output_type": "stream",
     "text": [
      "epoch 395, loss: 538.7057495117188, accuracy: 0.0047169811320754715\nepoch 396, loss: 526.2680053710938, accuracy: 0.005306603773584905\n"
     ]
    },
    {
     "name": "stdout",
     "output_type": "stream",
     "text": [
      "epoch 397, loss: 514.085693359375, accuracy: 0.005306603773584905\nepoch 398, loss: 502.16192626953125, accuracy: 0.005306603773584905\n"
     ]
    },
    {
     "name": "stdout",
     "output_type": "stream",
     "text": [
      "epoch 399, loss: 490.4307861328125, accuracy: 0.0047169811320754715\nepoch 400, loss: 478.9564514160156, accuracy: 0.003537735849056604\n"
     ]
    },
    {
     "name": "stdout",
     "output_type": "stream",
     "text": [
      "epoch 401, loss: 467.7049560546875, accuracy: 0.003537735849056604\nepoch 402, loss: 456.6919860839844, accuracy: 0.003537735849056604\n"
     ]
    },
    {
     "name": "stdout",
     "output_type": "stream",
     "text": [
      "epoch 403, loss: 445.8511962890625, accuracy: 0.003537735849056604\nepoch 404, loss: 435.2933044433594, accuracy: 0.004127358490566038\n"
     ]
    },
    {
     "name": "stdout",
     "output_type": "stream",
     "text": [
      "epoch 405, loss: 424.9057312011719, accuracy: 0.004127358490566038\nepoch 406, loss: 414.7458801269531, accuracy: 0.004127358490566038\n"
     ]
    },
    {
     "name": "stdout",
     "output_type": "stream",
     "text": [
      "epoch 407, loss: 404.7799377441406, accuracy: 0.004127358490566038\nepoch 408, loss: 395.0395812988281, accuracy: 0.003537735849056604\n"
     ]
    },
    {
     "name": "stdout",
     "output_type": "stream",
     "text": [
      "epoch 409, loss: 385.4874572753906, accuracy: 0.004127358490566038\nepoch 410, loss: 376.1031188964844, accuracy: 0.004127358490566038\n"
     ]
    },
    {
     "name": "stdout",
     "output_type": "stream",
     "text": [
      "epoch 411, loss: 366.94281005859375, accuracy: 0.0047169811320754715\n"
     ]
    },
    {
     "name": "stdout",
     "output_type": "stream",
     "text": [
      "epoch 412, loss: 357.9598388671875, accuracy: 0.004127358490566038\nepoch 413, loss: 349.1673889160156, accuracy: 0.004127358490566038\n"
     ]
    },
    {
     "name": "stdout",
     "output_type": "stream",
     "text": [
      "epoch 414, loss: 340.5762023925781, accuracy: 0.004127358490566038\nepoch 415, loss: 332.1170349121094, accuracy: 0.004127358490566038\n"
     ]
    },
    {
     "name": "stdout",
     "output_type": "stream",
     "text": [
      "epoch 416, loss: 323.8631286621094, accuracy: 0.0047169811320754715\n"
     ]
    },
    {
     "name": "stdout",
     "output_type": "stream",
     "text": [
      "epoch 417, loss: 315.8101501464844, accuracy: 0.004127358490566038\nepoch 418, loss: 307.9042053222656, accuracy: 0.0047169811320754715\n"
     ]
    },
    {
     "name": "stdout",
     "output_type": "stream",
     "text": [
      "epoch 419, loss: 300.1466979980469, accuracy: 0.00589622641509434\nepoch 420, loss: 292.5776672363281, accuracy: 0.006485849056603774\n"
     ]
    },
    {
     "name": "stdout",
     "output_type": "stream",
     "text": [
      "epoch 421, loss: 285.1629638671875, accuracy: 0.0047169811320754715\n"
     ]
    },
    {
     "name": "stdout",
     "output_type": "stream",
     "text": [
      "epoch 422, loss: 277.909912109375, accuracy: 0.004127358490566038\n"
     ]
    },
    {
     "name": "stdout",
     "output_type": "stream",
     "text": [
      "epoch 423, loss: 270.8141174316406, accuracy: 0.003537735849056604\n"
     ]
    },
    {
     "name": "stdout",
     "output_type": "stream",
     "text": [
      "epoch 424, loss: 263.85174560546875, accuracy: 0.00294811320754717\n"
     ]
    },
    {
     "name": "stdout",
     "output_type": "stream",
     "text": [
      "epoch 425, loss: 257.0784606933594, accuracy: 0.003537735849056604\nepoch 426, loss: 250.43016052246094, accuracy: 0.003537735849056604\n"
     ]
    },
    {
     "name": "stdout",
     "output_type": "stream",
     "text": [
      "epoch 427, loss: 243.9239044189453, accuracy: 0.004127358490566038\nepoch 428, loss: 237.58099365234375, accuracy: 0.004127358490566038\n"
     ]
    },
    {
     "name": "stdout",
     "output_type": "stream",
     "text": [
      "epoch 429, loss: 231.34548950195312, accuracy: 0.005306603773584905\nepoch 430, loss: 225.26116943359375, accuracy: 0.005306603773584905\n"
     ]
    },
    {
     "name": "stdout",
     "output_type": "stream",
     "text": [
      "epoch 431, loss: 219.3365020751953, accuracy: 0.00589622641509434\nepoch 432, loss: 213.51577758789062, accuracy: 0.00589622641509434\n"
     ]
    },
    {
     "name": "stdout",
     "output_type": "stream",
     "text": [
      "epoch 433, loss: 207.84469604492188, accuracy: 0.005306603773584905\nepoch 434, loss: 202.28997802734375, accuracy: 0.00589622641509434\n"
     ]
    },
    {
     "name": "stdout",
     "output_type": "stream",
     "text": [
      "epoch 435, loss: 196.840087890625, accuracy: 0.0076650943396226415\nepoch 436, loss: 191.55380249023438, accuracy: 0.0076650943396226415\n"
     ]
    },
    {
     "name": "stdout",
     "output_type": "stream",
     "text": [
      "epoch 437, loss: 186.3628692626953, accuracy: 0.007075471698113208\nepoch 438, loss: 181.2967987060547, accuracy: 0.0076650943396226415\n"
     ]
    },
    {
     "name": "stdout",
     "output_type": "stream",
     "text": [
      "epoch 439, loss: 176.3562469482422, accuracy: 0.007075471698113208\nepoch 440, loss: 171.49903869628906, accuracy: 0.006485849056603774\n"
     ]
    },
    {
     "name": "stdout",
     "output_type": "stream",
     "text": [
      "epoch 441, loss: 166.77767944335938, accuracy: 0.005306603773584905\nepoch 442, loss: 162.17530822753906, accuracy: 0.0047169811320754715\n"
     ]
    },
    {
     "name": "stdout",
     "output_type": "stream",
     "text": [
      "epoch 443, loss: 157.65916442871094, accuracy: 0.00589622641509434\nepoch 444, loss: 153.26193237304688, accuracy: 0.00589622641509434\n"
     ]
    },
    {
     "name": "stdout",
     "output_type": "stream",
     "text": [
      "epoch 445, loss: 148.9772186279297, accuracy: 0.00589622641509434\nepoch 446, loss: 144.7678985595703, accuracy: 0.00589622641509434\n"
     ]
    },
    {
     "name": "stdout",
     "output_type": "stream",
     "text": [
      "epoch 447, loss: 140.66831970214844, accuracy: 0.006485849056603774\nepoch 448, loss: 136.67478942871094, accuracy: 0.006485849056603774\n"
     ]
    },
    {
     "name": "stdout",
     "output_type": "stream",
     "text": [
      "epoch 449, loss: 132.77206420898438, accuracy: 0.006485849056603774\nepoch 450, loss: 128.9662322998047, accuracy: 0.007075471698113208\n"
     ]
    },
    {
     "name": "stdout",
     "output_type": "stream",
     "text": [
      "epoch 451, loss: 125.24591064453125, accuracy: 0.0076650943396226415\nepoch 452, loss: 121.62389373779297, accuracy: 0.00884433962264151\n"
     ]
    },
    {
     "name": "stdout",
     "output_type": "stream",
     "text": [
      "epoch 453, loss: 118.07471466064453, accuracy: 0.0076650943396226415\nepoch 454, loss: 114.62640380859375, accuracy: 0.007075471698113208\n"
     ]
    },
    {
     "name": "stdout",
     "output_type": "stream",
     "text": [
      "epoch 455, loss: 111.26348114013672, accuracy: 0.0076650943396226415\nepoch 456, loss: 107.98921966552734, accuracy: 0.008254716981132075\n"
     ]
    },
    {
     "name": "stdout",
     "output_type": "stream",
     "text": [
      "epoch 457, loss: 104.7833480834961, accuracy: 0.006485849056603774\nepoch 458, loss: 101.66157531738281, accuracy: 0.007075471698113208\n"
     ]
    },
    {
     "name": "stdout",
     "output_type": "stream",
     "text": [
      "epoch 459, loss: 98.6187973022461, accuracy: 0.007075471698113208\nepoch 460, loss: 95.6441879272461, accuracy: 0.007075471698113208\n"
     ]
    },
    {
     "name": "stdout",
     "output_type": "stream",
     "text": [
      "epoch 461, loss: 92.7625961303711, accuracy: 0.004127358490566038\nepoch 462, loss: 89.94380187988281, accuracy: 0.004127358490566038\n"
     ]
    },
    {
     "name": "stdout",
     "output_type": "stream",
     "text": [
      "epoch 463, loss: 87.21028900146484, accuracy: 0.0047169811320754715\nepoch 464, loss: 84.52488708496094, accuracy: 0.0047169811320754715\n"
     ]
    },
    {
     "name": "stdout",
     "output_type": "stream",
     "text": [
      "epoch 465, loss: 81.94535064697266, accuracy: 0.00589622641509434\n"
     ]
    },
    {
     "name": "stdout",
     "output_type": "stream",
     "text": [
      "epoch 466, loss: 79.39878845214844, accuracy: 0.005306603773584905\nepoch 467, loss: 76.93806457519531, accuracy: 0.00589622641509434\n"
     ]
    },
    {
     "name": "stdout",
     "output_type": "stream",
     "text": [
      "epoch 468, loss: 74.53787994384766, accuracy: 0.0076650943396226415\n"
     ]
    },
    {
     "name": "stdout",
     "output_type": "stream",
     "text": [
      "epoch 469, loss: 72.1988525390625, accuracy: 0.00884433962264151\n"
     ]
    },
    {
     "name": "stdout",
     "output_type": "stream",
     "text": [
      "epoch 470, loss: 69.9292984008789, accuracy: 0.010023584905660377\n"
     ]
    },
    {
     "name": "stdout",
     "output_type": "stream",
     "text": [
      "epoch 471, loss: 67.72200775146484, accuracy: 0.01061320754716981\nepoch 472, loss: 65.56988525390625, accuracy: 0.01061320754716981\n"
     ]
    },
    {
     "name": "stdout",
     "output_type": "stream",
     "text": [
      "epoch 473, loss: 63.48292541503906, accuracy: 0.00884433962264151\nepoch 474, loss: 61.45263671875, accuracy: 0.008254716981132075\n"
     ]
    },
    {
     "name": "stdout",
     "output_type": "stream",
     "text": [
      "epoch 475, loss: 59.468971252441406, accuracy: 0.007075471698113208\nepoch 476, loss: 57.55027389526367, accuracy: 0.008254716981132075\n"
     ]
    },
    {
     "name": "stdout",
     "output_type": "stream",
     "text": [
      "epoch 477, loss: 55.67585372924805, accuracy: 0.00884433962264151\nepoch 478, loss: 53.86227798461914, accuracy: 0.009433962264150943\n"
     ]
    },
    {
     "name": "stdout",
     "output_type": "stream",
     "text": [
      "epoch 479, loss: 52.0982780456543, accuracy: 0.011202830188679245\nepoch 480, loss: 50.391685485839844, accuracy: 0.01061320754716981\n"
     ]
    },
    {
     "name": "stdout",
     "output_type": "stream",
     "text": [
      "epoch 481, loss: 48.727447509765625, accuracy: 0.010023584905660377\nepoch 482, loss: 47.115020751953125, accuracy: 0.008254716981132075\n"
     ]
    },
    {
     "name": "stdout",
     "output_type": "stream",
     "text": [
      "epoch 483, loss: 45.55237579345703, accuracy: 0.00884433962264151\nepoch 484, loss: 44.027103424072266, accuracy: 0.0076650943396226415\n"
     ]
    },
    {
     "name": "stdout",
     "output_type": "stream",
     "text": [
      "epoch 485, loss: 42.549957275390625, accuracy: 0.0076650943396226415\nepoch 486, loss: 41.10918045043945, accuracy: 0.0076650943396226415\n"
     ]
    },
    {
     "name": "stdout",
     "output_type": "stream",
     "text": [
      "epoch 487, loss: 39.713619232177734, accuracy: 0.008254716981132075\nepoch 488, loss: 38.360877990722656, accuracy: 0.007075471698113208\n"
     ]
    },
    {
     "name": "stdout",
     "output_type": "stream",
     "text": [
      "epoch 489, loss: 37.05192947387695, accuracy: 0.010023584905660377\n"
     ]
    },
    {
     "name": "stdout",
     "output_type": "stream",
     "text": [
      "epoch 490, loss: 35.78057861328125, accuracy: 0.011202830188679245\nepoch 491, loss: 34.539913177490234, accuracy: 0.01179245283018868\n"
     ]
    },
    {
     "name": "stdout",
     "output_type": "stream",
     "text": [
      "epoch 492, loss: 33.344966888427734, accuracy: 0.011202830188679245\n"
     ]
    },
    {
     "name": "stdout",
     "output_type": "stream",
     "text": [
      "epoch 493, loss: 32.17989730834961, accuracy: 0.01061320754716981\n"
     ]
    },
    {
     "name": "stdout",
     "output_type": "stream",
     "text": [
      "epoch 494, loss: 31.053775787353516, accuracy: 0.011202830188679245\n"
     ]
    },
    {
     "name": "stdout",
     "output_type": "stream",
     "text": [
      "epoch 495, loss: 29.955223083496094, accuracy: 0.014150943396226415\nepoch 496, loss: 28.89657974243164, accuracy: 0.012971698113207548\n"
     ]
    },
    {
     "name": "stdout",
     "output_type": "stream",
     "text": [
      "epoch 497, loss: 27.865676879882812, accuracy: 0.011202830188679245\nepoch 498, loss: 26.86604118347168, accuracy: 0.012971698113207548\n"
     ]
    },
    {
     "name": "stdout",
     "output_type": "stream",
     "text": [
      "epoch 499, loss: 25.90730857849121, accuracy: 0.012971698113207548\nepoch 500, loss: 24.966754913330078, accuracy: 0.014150943396226415\n"
     ]
    },
    {
     "name": "stdout",
     "output_type": "stream",
     "text": [
      "epoch 501, loss: 24.058563232421875, accuracy: 0.01650943396226415\nepoch 502, loss: 23.183626174926758, accuracy: 0.018278301886792452\n"
     ]
    },
    {
     "name": "stdout",
     "output_type": "stream",
     "text": [
      "epoch 503, loss: 22.33141326904297, accuracy: 0.017099056603773585\nepoch 504, loss: 21.51076889038086, accuracy: 0.017099056603773585\n"
     ]
    },
    {
     "name": "stdout",
     "output_type": "stream",
     "text": [
      "epoch 505, loss: 20.70819854736328, accuracy: 0.01650943396226415\nepoch 506, loss: 19.935871124267578, accuracy: 0.013561320754716982\n"
     ]
    },
    {
     "name": "stdout",
     "output_type": "stream",
     "text": [
      "epoch 507, loss: 19.189363479614258, accuracy: 0.014150943396226415\nepoch 508, loss: 18.461977005004883, accuracy: 0.015330188679245283\n"
     ]
    },
    {
     "name": "stdout",
     "output_type": "stream",
     "text": [
      "epoch 509, loss: 17.761526107788086, accuracy: 0.015330188679245283\nepoch 510, loss: 17.085269927978516, accuracy: 0.01474056603773585\n"
     ]
    },
    {
     "name": "stdout",
     "output_type": "stream",
     "text": [
      "epoch 511, loss: 16.428512573242188, accuracy: 0.015919811320754717\nepoch 512, loss: 15.796609878540039, accuracy: 0.015919811320754717\n"
     ]
    },
    {
     "name": "stdout",
     "output_type": "stream",
     "text": [
      "epoch 513, loss: 15.182319641113281, accuracy: 0.015919811320754717\nepoch 514, loss: 14.590103149414062, accuracy: 0.015919811320754717\n"
     ]
    },
    {
     "name": "stdout",
     "output_type": "stream",
     "text": [
      "epoch 515, loss: 14.019952774047852, accuracy: 0.01474056603773585\nepoch 516, loss: 13.46259593963623, accuracy: 0.017099056603773585\n"
     ]
    },
    {
     "name": "stdout",
     "output_type": "stream",
     "text": [
      "epoch 517, loss: 12.928690910339355, accuracy: 0.015919811320754717\nepoch 518, loss: 12.411593437194824, accuracy: 0.015330188679245283\n"
     ]
    },
    {
     "name": "stdout",
     "output_type": "stream",
     "text": [
      "epoch 519, loss: 11.912358283996582, accuracy: 0.015330188679245283\nepoch 520, loss: 11.437695503234863, accuracy: 0.017099056603773585\n"
     ]
    },
    {
     "name": "stdout",
     "output_type": "stream",
     "text": [
      "epoch 521, loss: 10.968057632446289, accuracy: 0.018278301886792452\nepoch 522, loss: 10.520201683044434, accuracy: 0.018867924528301886\n"
     ]
    },
    {
     "name": "stdout",
     "output_type": "stream",
     "text": [
      "epoch 523, loss: 10.090779304504395, accuracy: 0.017099056603773585\nepoch 524, loss: 9.675825119018555, accuracy: 0.01768867924528302\n"
     ]
    },
    {
     "name": "stdout",
     "output_type": "stream",
     "text": [
      "epoch 525, loss: 9.269694328308105, accuracy: 0.018867924528301886\nepoch 526, loss: 8.885340690612793, accuracy: 0.020047169811320754\n"
     ]
    },
    {
     "name": "stdout",
     "output_type": "stream",
     "text": [
      "epoch 527, loss: 8.509583473205566, accuracy: 0.020636792452830188\nepoch 528, loss: 8.153560638427734, accuracy: 0.02122641509433962\n"
     ]
    },
    {
     "name": "stdout",
     "output_type": "stream",
     "text": [
      "epoch 529, loss: 7.806838035583496, accuracy: 0.020047169811320754\nepoch 530, loss: 7.475679397583008, accuracy: 0.01945754716981132\n"
     ]
    },
    {
     "name": "stdout",
     "output_type": "stream",
     "text": [
      "epoch 531, loss: 7.1539306640625, accuracy: 0.020047169811320754\nepoch 532, loss: 6.844475746154785, accuracy: 0.02122641509433962\n"
     ]
    },
    {
     "name": "stdout",
     "output_type": "stream",
     "text": [
      "epoch 533, loss: 6.550705432891846, accuracy: 0.02240566037735849\n"
     ]
    },
    {
     "name": "stdout",
     "output_type": "stream",
     "text": [
      "epoch 534, loss: 6.265735149383545, accuracy: 0.022995283018867923\n"
     ]
    },
    {
     "name": "stdout",
     "output_type": "stream",
     "text": [
      "epoch 535, loss: 5.989830017089844, accuracy: 0.022995283018867923\nepoch 536, loss: 5.7272515296936035, accuracy: 0.02358490566037736\n"
     ]
    },
    {
     "name": "stdout",
     "output_type": "stream",
     "text": [
      "epoch 537, loss: 5.473967552185059, accuracy: 0.024174528301886794\nepoch 538, loss: 5.230751037597656, accuracy: 0.024764150943396228\n"
     ]
    },
    {
     "name": "stdout",
     "output_type": "stream",
     "text": [
      "epoch 539, loss: 4.998657703399658, accuracy: 0.02535377358490566\nepoch 540, loss: 4.772561073303223, accuracy: 0.02653301886792453\n"
     ]
    },
    {
     "name": "stdout",
     "output_type": "stream",
     "text": [
      "epoch 541, loss: 4.557679176330566, accuracy: 0.028891509433962265\nepoch 542, loss: 4.350833892822266, accuracy: 0.028891509433962265\n"
     ]
    },
    {
     "name": "stdout",
     "output_type": "stream",
     "text": [
      "epoch 543, loss: 4.152246952056885, accuracy: 0.030660377358490566\nepoch 544, loss: 3.9633049964904785, accuracy: 0.03419811320754717\n"
     ]
    },
    {
     "name": "stdout",
     "output_type": "stream",
     "text": [
      "epoch 545, loss: 3.7809743881225586, accuracy: 0.0347877358490566\nepoch 546, loss: 3.607968330383301, accuracy: 0.036556603773584904\n"
     ]
    },
    {
     "name": "stdout",
     "output_type": "stream",
     "text": [
      "epoch 547, loss: 3.439375400543213, accuracy: 0.038325471698113206\nepoch 548, loss: 3.2798373699188232, accuracy: 0.04304245283018868\n"
     ]
    },
    {
     "name": "stdout",
     "output_type": "stream",
     "text": [
      "epoch 549, loss: 3.124619483947754, accuracy: 0.04363207547169811\n"
     ]
    },
    {
     "name": "stdout",
     "output_type": "stream",
     "text": [
      "epoch 550, loss: 2.9777276515960693, accuracy: 0.04363207547169811\n"
     ]
    },
    {
     "name": "stdout",
     "output_type": "stream",
     "text": [
      "epoch 551, loss: 2.8377764225006104, accuracy: 0.04304245283018868\nepoch 552, loss: 2.7028002738952637, accuracy: 0.04363207547169811\n"
     ]
    },
    {
     "name": "stdout",
     "output_type": "stream",
     "text": [
      "epoch 553, loss: 2.573270082473755, accuracy: 0.045990566037735846\nepoch 554, loss: 2.450080156326294, accuracy: 0.045990566037735846\n"
     ]
    },
    {
     "name": "stdout",
     "output_type": "stream",
     "text": [
      "epoch 555, loss: 2.330923080444336, accuracy: 0.045990566037735846\nepoch 556, loss: 2.2191624641418457, accuracy: 0.047759433962264154\n"
     ]
    },
    {
     "name": "stdout",
     "output_type": "stream",
     "text": [
      "epoch 557, loss: 2.11128568649292, accuracy: 0.05070754716981132\n"
     ]
    },
    {
     "name": "stdout",
     "output_type": "stream",
     "text": [
      "epoch 558, loss: 2.0079424381256104, accuracy: 0.05188679245283019\n"
     ]
    },
    {
     "name": "stdout",
     "output_type": "stream",
     "text": [
      "epoch 559, loss: 1.9085510969161987, accuracy: 0.054245283018867926\n"
     ]
    },
    {
     "name": "stdout",
     "output_type": "stream",
     "text": [
      "epoch 560, loss: 1.8140531778335571, accuracy: 0.054245283018867926\n"
     ]
    },
    {
     "name": "stdout",
     "output_type": "stream",
     "text": [
      "epoch 561, loss: 1.7245943546295166, accuracy: 0.054245283018867926\n"
     ]
    },
    {
     "name": "stdout",
     "output_type": "stream",
     "text": [
      "epoch 562, loss: 1.6388779878616333, accuracy: 0.05660377358490566\n"
     ]
    },
    {
     "name": "stdout",
     "output_type": "stream",
     "text": [
      "epoch 563, loss: 1.5565600395202637, accuracy: 0.05837264150943396\n"
     ]
    },
    {
     "name": "stdout",
     "output_type": "stream",
     "text": [
      "epoch 564, loss: 1.4787311553955078, accuracy: 0.060141509433962265\n"
     ]
    },
    {
     "name": "stdout",
     "output_type": "stream",
     "text": [
      "epoch 565, loss: 1.4042617082595825, accuracy: 0.06308962264150944\n"
     ]
    },
    {
     "name": "stdout",
     "output_type": "stream",
     "text": [
      "epoch 566, loss: 1.332318902015686, accuracy: 0.06426886792452831\n"
     ]
    },
    {
     "name": "stdout",
     "output_type": "stream",
     "text": [
      "epoch 567, loss: 1.2638369798660278, accuracy: 0.0660377358490566\n"
     ]
    },
    {
     "name": "stdout",
     "output_type": "stream",
     "text": [
      "epoch 568, loss: 1.1999036073684692, accuracy: 0.06780660377358491\nepoch 569, loss: 1.1379116773605347, accuracy: 0.07016509433962265\n"
     ]
    },
    {
     "name": "stdout",
     "output_type": "stream",
     "text": [
      "epoch 570, loss: 1.0786978006362915, accuracy: 0.07134433962264151\n"
     ]
    },
    {
     "name": "stdout",
     "output_type": "stream",
     "text": [
      "epoch 571, loss: 1.0224359035491943, accuracy: 0.07547169811320754\nepoch 572, loss: 0.9691459536552429, accuracy: 0.07900943396226415\n"
     ]
    },
    {
     "name": "stdout",
     "output_type": "stream",
     "text": [
      "epoch 573, loss: 0.9182230830192566, accuracy: 0.08313679245283019\nepoch 574, loss: 0.8701282739639282, accuracy: 0.08608490566037735\n"
     ]
    },
    {
     "name": "stdout",
     "output_type": "stream",
     "text": [
      "epoch 575, loss: 0.8233600854873657, accuracy: 0.09080188679245282\nepoch 576, loss: 0.7805114388465881, accuracy: 0.09433962264150944\n"
     ]
    },
    {
     "name": "stdout",
     "output_type": "stream",
     "text": [
      "epoch 577, loss: 0.7376629114151001, accuracy: 0.09610849056603774\n"
     ]
    },
    {
     "name": "stdout",
     "output_type": "stream",
     "text": [
      "epoch 578, loss: 0.6976737976074219, accuracy: 0.09669811320754718\n"
     ]
    },
    {
     "name": "stdout",
     "output_type": "stream",
     "text": [
      "epoch 579, loss: 0.6604626774787903, accuracy: 0.10436320754716981\nepoch 580, loss: 0.6248114109039307, accuracy: 0.10731132075471699\n"
     ]
    },
    {
     "name": "stdout",
     "output_type": "stream",
     "text": [
      "epoch 581, loss: 0.5900207161903381, accuracy: 0.10908018867924528\n"
     ]
    },
    {
     "name": "stdout",
     "output_type": "stream",
     "text": [
      "epoch 582, loss: 0.5585871934890747, accuracy: 0.11143867924528301\nepoch 583, loss: 0.5276098251342773, accuracy: 0.11320754716981132\n"
     ]
    },
    {
     "name": "stdout",
     "output_type": "stream",
     "text": [
      "epoch 584, loss: 0.49841171503067017, accuracy: 0.11733490566037735\nepoch 585, loss: 0.47112396359443665, accuracy: 0.11969339622641509\n"
     ]
    },
    {
     "name": "stdout",
     "output_type": "stream",
     "text": [
      "epoch 586, loss: 0.44509658217430115, accuracy: 0.12382075471698113\nepoch 587, loss: 0.4198758900165558, accuracy: 0.12735849056603774\n"
     ]
    },
    {
     "name": "stdout",
     "output_type": "stream",
     "text": [
      "epoch 588, loss: 0.39618179202079773, accuracy: 0.1320754716981132\nepoch 589, loss: 0.3739680051803589, accuracy: 0.13561320754716982\n"
     ]
    },
    {
     "name": "stdout",
     "output_type": "stream",
     "text": [
      "epoch 590, loss: 0.3532458543777466, accuracy: 0.13856132075471697\nepoch 591, loss: 0.3327615261077881, accuracy: 0.14504716981132076\n"
     ]
    },
    {
     "name": "stdout",
     "output_type": "stream",
     "text": [
      "epoch 592, loss: 0.3138342499732971, accuracy: 0.14858490566037735\nepoch 593, loss: 0.29579871892929077, accuracy: 0.15271226415094338\n"
     ]
    },
    {
     "name": "stdout",
     "output_type": "stream",
     "text": [
      "epoch 594, loss: 0.27833276987075806, accuracy: 0.15389150943396226\nepoch 595, loss: 0.26227521896362305, accuracy: 0.16037735849056603\n"
     ]
    },
    {
     "name": "stdout",
     "output_type": "stream",
     "text": [
      "epoch 596, loss: 0.24724915623664856, accuracy: 0.1633254716981132\nepoch 597, loss: 0.23280276358127594, accuracy: 0.16981132075471697\n"
     ]
    },
    {
     "name": "stdout",
     "output_type": "stream",
     "text": [
      "epoch 598, loss: 0.2190781831741333, accuracy: 0.17275943396226415\nepoch 599, loss: 0.20618176460266113, accuracy: 0.17747641509433962\n"
     ]
    },
    {
     "name": "stdout",
     "output_type": "stream",
     "text": [
      "epoch 600, loss: 0.19393043220043182, accuracy: 0.18278301886792453\nepoch 601, loss: 0.18196211755275726, accuracy: 0.18396226415094338\n"
     ]
    },
    {
     "name": "stdout",
     "output_type": "stream",
     "text": [
      "epoch 602, loss: 0.1713535040616989, accuracy: 0.18632075471698112\nepoch 603, loss: 0.1614430844783783, accuracy: 0.1957547169811321\n"
     ]
    },
    {
     "name": "stdout",
     "output_type": "stream",
     "text": [
      "epoch 604, loss: 0.15183599293231964, accuracy: 0.20106132075471697\nepoch 605, loss: 0.1420034021139145, accuracy: 0.20577830188679244\n"
     ]
    },
    {
     "name": "stdout",
     "output_type": "stream",
     "text": [
      "epoch 606, loss: 0.13372577726840973, accuracy: 0.2116745283018868\nepoch 607, loss: 0.12561190128326416, accuracy: 0.22110849056603774\n"
     ]
    },
    {
     "name": "stdout",
     "output_type": "stream",
     "text": [
      "epoch 608, loss: 0.11818461120128632, accuracy: 0.2270047169811321\nepoch 609, loss: 0.11059993505477905, accuracy: 0.2329009433962264\n"
     ]
    },
    {
     "name": "stdout",
     "output_type": "stream",
     "text": [
      "epoch 610, loss: 0.10404244810342789, accuracy: 0.2411556603773585\nepoch 611, loss: 0.09715080261230469, accuracy: 0.2511792452830189\n"
     ]
    },
    {
     "name": "stdout",
     "output_type": "stream",
     "text": [
      "epoch 612, loss: 0.09130274504423141, accuracy: 0.2606132075471698\nepoch 613, loss: 0.08558014035224915, accuracy: 0.2653301886792453\n"
     ]
    },
    {
     "name": "stdout",
     "output_type": "stream",
     "text": [
      "epoch 614, loss: 0.08042594790458679, accuracy: 0.27417452830188677\nepoch 615, loss: 0.075187548995018, accuracy: 0.2806603773584906\n"
     ]
    },
    {
     "name": "stdout",
     "output_type": "stream",
     "text": [
      "epoch 616, loss: 0.0703389048576355, accuracy: 0.28832547169811323\nepoch 617, loss: 0.06586974859237671, accuracy: 0.2977594339622642\n"
     ]
    },
    {
     "name": "stdout",
     "output_type": "stream",
     "text": [
      "epoch 618, loss: 0.06174258887767792, accuracy: 0.31014150943396224\n"
     ]
    },
    {
     "name": "stdout",
     "output_type": "stream",
     "text": [
      "epoch 619, loss: 0.0578523613512516, accuracy: 0.32193396226415094\nepoch 620, loss: 0.0540609173476696, accuracy: 0.330188679245283\n"
     ]
    },
    {
     "name": "stdout",
     "output_type": "stream",
     "text": [
      "epoch 621, loss: 0.05059244856238365, accuracy: 0.3419811320754717\nepoch 622, loss: 0.04719773679971695, accuracy: 0.35318396226415094\n"
     ]
    },
    {
     "name": "stdout",
     "output_type": "stream",
     "text": [
      "epoch 623, loss: 0.04416388273239136, accuracy: 0.36851415094339623\nepoch 624, loss: 0.04116696119308472, accuracy: 0.3803066037735849\n"
     ]
    },
    {
     "name": "stdout",
     "output_type": "stream",
     "text": [
      "epoch 625, loss: 0.038378868252038956, accuracy: 0.39327830188679247\nepoch 626, loss: 0.03593246266245842, accuracy: 0.4033018867924528\n"
     ]
    },
    {
     "name": "stdout",
     "output_type": "stream",
     "text": [
      "epoch 627, loss: 0.03357797861099243, accuracy: 0.41273584905660377\nepoch 628, loss: 0.031248992308974266, accuracy: 0.42629716981132076\n"
     ]
    },
    {
     "name": "stdout",
     "output_type": "stream",
     "text": [
      "epoch 629, loss: 0.029244031757116318, accuracy: 0.4380896226415094\nepoch 630, loss: 0.027200613170862198, accuracy: 0.451061320754717\n"
     ]
    },
    {
     "name": "stdout",
     "output_type": "stream",
     "text": [
      "epoch 631, loss: 0.025391528382897377, accuracy: 0.46875\nepoch 632, loss: 0.023612013086676598, accuracy: 0.48879716981132076\n"
     ]
    },
    {
     "name": "stdout",
     "output_type": "stream",
     "text": [
      "epoch 633, loss: 0.022003447636961937, accuracy: 0.5017688679245284\nepoch 634, loss: 0.020503833889961243, accuracy: 0.5224056603773585\n"
     ]
    },
    {
     "name": "stdout",
     "output_type": "stream",
     "text": [
      "epoch 635, loss: 0.019084792584180832, accuracy: 0.5389150943396226\nepoch 636, loss: 0.017857320606708527, accuracy: 0.5524764150943396\n"
     ]
    },
    {
     "name": "stdout",
     "output_type": "stream",
     "text": [
      "epoch 637, loss: 0.016595952212810516, accuracy: 0.566627358490566\nepoch 638, loss: 0.015391570515930653, accuracy: 0.5860849056603774\n"
     ]
    },
    {
     "name": "stdout",
     "output_type": "stream",
     "text": [
      "epoch 639, loss: 0.0143328458070755, accuracy: 0.6043632075471698\nepoch 640, loss: 0.013283425942063332, accuracy: 0.6202830188679245\n"
     ]
    },
    {
     "name": "stdout",
     "output_type": "stream",
     "text": [
      "epoch 641, loss: 0.01230881828814745, accuracy: 0.6338443396226415\nepoch 642, loss: 0.011457681655883789, accuracy: 0.6479952830188679\n"
     ]
    },
    {
     "name": "stdout",
     "output_type": "stream",
     "text": [
      "epoch 643, loss: 0.010697437450289726, accuracy: 0.6674528301886793\nepoch 644, loss: 0.009864786639809608, accuracy: 0.6863207547169812\n"
     ]
    },
    {
     "name": "stdout",
     "output_type": "stream",
     "text": [
      "epoch 645, loss: 0.009205443784594536, accuracy: 0.7063679245283019\nepoch 646, loss: 0.008517465554177761, accuracy: 0.71875\n"
     ]
    },
    {
     "name": "stdout",
     "output_type": "stream",
     "text": [
      "epoch 647, loss: 0.007926826365292072, accuracy: 0.7393867924528302\n"
     ]
    },
    {
     "name": "stdout",
     "output_type": "stream",
     "text": [
      "epoch 648, loss: 0.007327169645577669, accuracy: 0.7511792452830188\nepoch 649, loss: 0.006763065699487925, accuracy: 0.7688679245283019\n"
     ]
    },
    {
     "name": "stdout",
     "output_type": "stream",
     "text": [
      "epoch 650, loss: 0.006274298764765263, accuracy: 0.7859669811320755\n"
     ]
    },
    {
     "name": "stdout",
     "output_type": "stream",
     "text": [
      "epoch 651, loss: 0.005827382672578096, accuracy: 0.8054245283018868\n"
     ]
    },
    {
     "name": "stdout",
     "output_type": "stream",
     "text": [
      "epoch 652, loss: 0.005381258204579353, accuracy: 0.8207547169811321\n"
     ]
    },
    {
     "name": "stdout",
     "output_type": "stream",
     "text": [
      "epoch 653, loss: 0.005015528295189142, accuracy: 0.8378537735849056\n"
     ]
    },
    {
     "name": "stdout",
     "output_type": "stream",
     "text": [
      "epoch 654, loss: 0.004587605129927397, accuracy: 0.8543632075471698\n"
     ]
    },
    {
     "name": "stdout",
     "output_type": "stream",
     "text": [
      "epoch 655, loss: 0.004281305707991123, accuracy: 0.8696933962264151\n"
     ]
    },
    {
     "name": "stdout",
     "output_type": "stream",
     "text": [
      "epoch 656, loss: 0.003930053673684597, accuracy: 0.8808962264150944\n"
     ]
    },
    {
     "name": "stdout",
     "output_type": "stream",
     "text": [
      "epoch 657, loss: 0.003621174953877926, accuracy: 0.8985849056603774\n"
     ]
    },
    {
     "name": "stdout",
     "output_type": "stream",
     "text": [
      "epoch 658, loss: 0.003397548571228981, accuracy: 0.9086084905660378\n"
     ]
    },
    {
     "name": "stdout",
     "output_type": "stream",
     "text": [
      "epoch 659, loss: 0.0030823945999145508, accuracy: 0.9268867924528302\n"
     ]
    },
    {
     "name": "stdout",
     "output_type": "stream",
     "text": [
      "epoch 660, loss: 0.0028550003189593554, accuracy: 0.9351415094339622\n"
     ]
    },
    {
     "name": "stdout",
     "output_type": "stream",
     "text": [
      "epoch 661, loss: 0.002659362507984042, accuracy: 0.9475235849056604\n"
     ]
    },
    {
     "name": "stdout",
     "output_type": "stream",
     "text": [
      "epoch 662, loss: 0.002452925080433488, accuracy: 0.9563679245283019\n"
     ]
    },
    {
     "name": "stdout",
     "output_type": "stream",
     "text": [
      "epoch 663, loss: 0.002235699212178588, accuracy: 0.9669811320754716\nepoch 664, loss: 0.002062411978840828, accuracy: 0.972877358490566\n"
     ]
    },
    {
     "name": "stdout",
     "output_type": "stream",
     "text": [
      "epoch 665, loss: 0.0019205586286261678, accuracy: 0.9787735849056604\nepoch 666, loss: 0.0017866194248199463, accuracy: 0.9817216981132075\n"
     ]
    },
    {
     "name": "stdout",
     "output_type": "stream",
     "text": [
      "epoch 667, loss: 0.00164803268853575, accuracy: 0.9864386792452831\nepoch 668, loss: 0.0015180897898972034, accuracy: 0.9905660377358491\n"
     ]
    },
    {
     "name": "stdout",
     "output_type": "stream",
     "text": [
      "epoch 669, loss: 0.0013889516703784466, accuracy: 0.9929245283018868\nepoch 670, loss: 0.0012931824894621968, accuracy: 0.9941037735849056\n"
     ]
    },
    {
     "name": "stdout",
     "output_type": "stream",
     "text": [
      "epoch 671, loss: 0.0011839413782581687, accuracy: 0.9970518867924528\nepoch 672, loss: 0.0010834927670657635, accuracy: 0.9982311320754716\n"
     ]
    },
    {
     "name": "stdout",
     "output_type": "stream",
     "text": [
      "epoch 673, loss: 0.0009943203767761588, accuracy: 1.0\nepoch 674, loss: 0.0009204007219523191, accuracy: 1.0\n"
     ]
    },
    {
     "name": "stdout",
     "output_type": "stream",
     "text": [
      "epoch 675, loss: 0.0008346107788383961, accuracy: 1.0\nepoch 676, loss: 0.0007701013819314539, accuracy: 1.0\n"
     ]
    },
    {
     "name": "stdout",
     "output_type": "stream",
     "text": [
      "epoch 677, loss: 0.0006985997315496206, accuracy: 1.0\nepoch 678, loss: 0.0006337130907922983, accuracy: 1.0\n"
     ]
    },
    {
     "name": "stdout",
     "output_type": "stream",
     "text": [
      "epoch 679, loss: 0.0005915475776419044, accuracy: 1.0\nepoch 680, loss: 0.0005372675368562341, accuracy: 1.0\n"
     ]
    },
    {
     "name": "stdout",
     "output_type": "stream",
     "text": [
      "epoch 681, loss: 0.0004996050847694278, accuracy: 1.0\nepoch 682, loss: 0.00044282505405135453, accuracy: 1.0\n"
     ]
    },
    {
     "name": "stdout",
     "output_type": "stream",
     "text": [
      "epoch 683, loss: 0.0003989210817962885, accuracy: 1.0\nepoch 684, loss: 0.0003681601083371788, accuracy: 1.0\n"
     ]
    },
    {
     "name": "stdout",
     "output_type": "stream",
     "text": [
      "epoch 685, loss: 0.0003385898016858846, accuracy: 1.0\nepoch 686, loss: 0.0003112743725068867, accuracy: 1.0\n"
     ]
    },
    {
     "name": "stdout",
     "output_type": "stream",
     "text": [
      "epoch 687, loss: 0.00028706187731586397, accuracy: 1.0\nepoch 688, loss: 0.0002610924420878291, accuracy: 1.0\n"
     ]
    },
    {
     "name": "stdout",
     "output_type": "stream",
     "text": [
      "epoch 689, loss: 0.00024435724481008947, accuracy: 1.0\nepoch 690, loss: 0.00022078404435887933, accuracy: 1.0\n"
     ]
    },
    {
     "name": "stdout",
     "output_type": "stream",
     "text": [
      "epoch 691, loss: 0.0002051947230938822, accuracy: 1.0\nepoch 692, loss: 0.00018934208492282778, accuracy: 1.0\n"
     ]
    },
    {
     "name": "stdout",
     "output_type": "stream",
     "text": [
      "epoch 693, loss: 0.00017419162031728774, accuracy: 1.0\nepoch 694, loss: 0.00015953609545249492, accuracy: 1.0\n"
     ]
    },
    {
     "name": "stdout",
     "output_type": "stream",
     "text": [
      "epoch 695, loss: 0.0001453656586818397, accuracy: 1.0\nepoch 696, loss: 0.0001341610768577084, accuracy: 1.0\n"
     ]
    },
    {
     "name": "stdout",
     "output_type": "stream",
     "text": [
      "epoch 697, loss: 0.00012278927897568792, accuracy: 1.0\n"
     ]
    },
    {
     "name": "stdout",
     "output_type": "stream",
     "text": [
      "epoch 698, loss: 0.00011152779188705608, accuracy: 1.0\nepoch 699, loss: 0.0001023416843963787, accuracy: 1.0\n"
     ]
    },
    {
     "name": "stdout",
     "output_type": "stream",
     "text": [
      "epoch 700, loss: 9.305210551247001e-05, accuracy: 1.0\n"
     ]
    },
    {
     "name": "stdout",
     "output_type": "stream",
     "text": [
      "epoch 701, loss: 8.50054420880042e-05, accuracy: 1.0\nepoch 702, loss: 7.721997826592997e-05, accuracy: 1.0\n"
     ]
    },
    {
     "name": "stdout",
     "output_type": "stream",
     "text": [
      "epoch 703, loss: 7.020488556008786e-05, accuracy: 1.0\nepoch 704, loss: 6.451920489780605e-05, accuracy: 1.0\n"
     ]
    },
    {
     "name": "stdout",
     "output_type": "stream",
     "text": [
      "epoch 705, loss: 5.960949420114048e-05, accuracy: 1.0\nepoch 706, loss: 5.401626549428329e-05, accuracy: 1.0\n"
     ]
    },
    {
     "name": "stdout",
     "output_type": "stream",
     "text": [
      "epoch 707, loss: 5.057741145719774e-05, accuracy: 1.0\nepoch 708, loss: 4.592742334352806e-05, accuracy: 1.0\n"
     ]
    },
    {
     "name": "stdout",
     "output_type": "stream",
     "text": [
      "epoch 709, loss: 4.358673686510883e-05, accuracy: 1.0\nepoch 710, loss: 3.914158878615126e-05, accuracy: 1.0\n"
     ]
    },
    {
     "name": "stdout",
     "output_type": "stream",
     "text": [
      "epoch 711, loss: 3.6375127820065245e-05, accuracy: 1.0\nepoch 712, loss: 3.369076512171887e-05, accuracy: 1.0\n"
     ]
    },
    {
     "name": "stdout",
     "output_type": "stream",
     "text": [
      "epoch 713, loss: 3.062980613321997e-05, accuracy: 1.0\nepoch 714, loss: 2.816986307152547e-05, accuracy: 1.0\nEarly Stopping after 15 epochs of no improvements\ntest loss: 0.0028672984335571527, accuracy: 0.9356\n"
     ]
    }
   ],
   "source": [
    "import tensorflow as tf\n",
    "import numpy as np\n",
    "\n",
    "from nalu.experiments.utils import generate_synthetic_arithmetic_dataset\n",
    "from nalu.layers.nalu import NaluLayer\n",
    "\n",
    "if __name__ == \"__main__\":\n",
    "    \n",
    "    EPOCHS = 1000\n",
    "    PATIENCE = 15\n",
    "    LEARNING_RATE = .005\n",
    "    BATCH_SIZE = 8192\n",
    "    FEATURES_NUM = 100\n",
    "    \n",
    "    X_train, y_train, boundaries = generate_synthetic_arithmetic_dataset(\"add\", -1000, 1000, FEATURES_NUM, 100000)\n",
    "    X_test, y_test, _ = generate_synthetic_arithmetic_dataset(\"add\", -10000, 10000, FEATURES_NUM, 10000, boundaries)\n",
    "\n",
    "    input = tf.placeholder(tf.float32, shape=[None, FEATURES_NUM])\n",
    "    y_true = tf.placeholder(tf.float32, shape=[None, ])\n",
    "    nalu_layer = NaluLayer(FEATURES_NUM, 1, 2, 2, core_cell_type=\"nac\")\n",
    "    y_pred = tf.squeeze(nalu_layer(input))\n",
    "    \n",
    "\n",
    "    loss = tf.losses.mean_squared_error(y_true, y_pred)  # NALU uses mse\n",
    "    optimizer = tf.train.AdamOptimizer(LEARNING_RATE)\n",
    "    train_op = optimizer.minimize(loss)\n",
    "\n",
    "    sess = tf.Session()\n",
    "    init = tf.global_variables_initializer()\n",
    "    sess.run(init)\n",
    "    \n",
    "    p = PATIENCE\n",
    "    old_loss = 0\n",
    "    for epoch in range(EPOCHS):\n",
    "        i = 0\n",
    "        while i < len(X_train):\n",
    "            X_batch, y_batch = X_train[i:i + BATCH_SIZE], y_train[i:i + BATCH_SIZE]\n",
    "\n",
    "            _, output_batch, l = sess.run([train_op, y_pred, loss],\n",
    "                                     feed_dict={input: X_batch, y_true: y_batch})\n",
    "            i += BATCH_SIZE\n",
    "\n",
    "        acc = np.sum(np.isclose(output_batch, y_batch, atol=.1, rtol=0)) / len(y_batch)\n",
    "        print('epoch {2}, loss: {0}, accuracy: {1}'.format(l, acc, epoch))\n",
    "        \n",
    "        if old_loss - l < .00001:\n",
    "            p -= 1\n",
    "            if p < 0:\n",
    "                print(\"Early Stopping after {} epochs of no improvements\".format(PATIENCE))\n",
    "                break\n",
    "        else:\n",
    "            p = PATIENCE\n",
    "        old_loss = l \n",
    "            \n",
    "    output_test, l = sess.run([y_pred, loss],\n",
    "                                     feed_dict={input: X_test, y_true: y_test})\n",
    "    acc = np.sum(np.isclose(output_test, y_test, atol=.1, rtol=0)) / len(y_test)\n",
    "    print('test loss: {0}, accuracy: {1}'.format(l, acc))"
   ]
  }
 ],
 "metadata": {
  "kernelspec": {
   "display_name": "Python 2",
   "language": "python",
   "name": "python2"
  },
  "language_info": {
   "codemirror_mode": {
    "name": "ipython",
    "version": 2
   },
   "file_extension": ".py",
   "mimetype": "text/x-python",
   "name": "python",
   "nbconvert_exporter": "python",
   "pygments_lexer": "ipython2",
   "version": "2.7.6"
  }
 },
 "nbformat": 4,
 "nbformat_minor": 0
}
